{
 "cells": [
  {
   "cell_type": "markdown",
   "metadata": {},
   "source": [
    "# Liverpool FC Seasons From 1993-2018"
   ]
  },
  {
   "cell_type": "markdown",
   "metadata": {},
   "source": [
    "Source - https://www.kaggle.com/rcamargo/liverpool-fc-stats-from-19932018\n"
   ]
  },
  {
   "cell_type": "markdown",
   "metadata": {},
   "source": [
    "Data is extracted from Kaggle and focusses on the matches played by Liverpool with 49 different teams from 1993 to 2018, where there are two cases, first, where liverpool plays in as a home team and other where it plays in as away team. Furthermore, these two columns have corresponding values of how many goals were scored in each match and even half time goals are included to give us a sense of result of the game by the half time. "
   ]
  },
  {
   "cell_type": "markdown",
   "metadata": {},
   "source": [
    "# Features\n",
    "\n",
    "Date- DAY/MONTH/YEAR\n",
    "\n",
    "HomeTeam-HOME TEAM\n",
    "\n",
    "AwayTeam-AWAY TEAM\n",
    "\n",
    "FTHG-FULL-TIME HOMETEAM GOALS\n",
    "\n",
    "FTAG-FULL-TIME AWAYTEAM GOALS\n",
    "\n",
    "FTR-FULL-TIME RESULT\n",
    "\n",
    "HTHG-HALF-TIME HOMETEAM GOALS\n",
    "\n",
    "HTAG-HALF-TIME AWAYTEAM GOALS\n",
    "\n",
    "HTR-HALF-TIME RESULT\n",
    "\n",
    "Season-SEASON"
   ]
  },
  {
   "cell_type": "markdown",
   "metadata": {},
   "source": [
    "# PROPOSAL\n",
    "I was searching sports dataset, this had some attributes which would generate good prediction on hypothesis that i made.\n",
    "\n",
    "Size-> 63kbs, columns=11, rows=958 \n",
    "\n",
    "About dataset-\n",
    "(column names and their full forms)\n",
    "Div = League Division\n",
    "Date = Match Date (dd/mm/yy)\n",
    "HomeTeam = Home Team\n",
    "AwayTeam = Away Team\n",
    "FTHG = Full Time Home Team Goals\n",
    "FTAG = Full Time Away Team Goals\n",
    "FTR = Full Time Result (H=Home Win, D=Draw, A=Away Win)\n",
    "HTHG = Half Time Home Team Goals\n",
    "HTAG = Half Time Away Team Goals\n",
    "HTR = Half Time Result (H=Home Win, D=Draw, A=Away Win)\n",
    "season = year\n",
    "\n",
    "The dataset shows stats of liverpool versus all the other teams it has played with from 1993-2018.\n",
    "It shows goals scored before half time and final goals between the two teams that are home team and away team, furthermore, it shows the date of each soccer match and their location.\n",
    "Comparison of goals a team scored if playing in home with playing in other countries could be done and what are their result in different countries which will eventually tell that where Liverpool play good or bad and what track record it has and it will make us understand that with which country Liverpool face problems.\n",
    "I chose this dataset as it was my favorite sport in middle school.\n",
    "\n",
    "Hypothesis 1-\n",
    "Liverpool wins more matches in their hometown, as the team would be more familiar to the conditions in hometown and will score more goals than playing away.\n",
    "\n",
    "Hypothesis 2-\n",
    "Second hypothesis is based on half time goals, if a team either home or away has more goals before half time then it will win the match.\n"
   ]
  },
  {
   "cell_type": "markdown",
   "metadata": {},
   "source": [
    "# Primary Conclusion\n",
    "Through graphical representation and applying z-test on one of the hypothesis it is concluded that if Liverpool plays in the Home ground then chances of winning is higher than playing in a foreign country, furthermore, if a team is leading at the time of half time then the chances of winning increases, no matter it is a home team or an away team."
   ]
  },
  {
   "cell_type": "code",
   "execution_count": 1,
   "metadata": {},
   "outputs": [],
   "source": [
    "import pandas as pd\n",
    "import numpy as np\n",
    "import matplotlib.pyplot as plt\n",
    "import seaborn as sns\n",
    "from sklearn import preprocessing\n",
    "from scipy import stats\n",
    "import statistics\n",
    "import math\n",
    "from scipy.stats import norm"
   ]
  },
  {
   "cell_type": "code",
   "execution_count": 2,
   "metadata": {},
   "outputs": [
    {
     "data": {
      "text/html": [
       "<div>\n",
       "<style scoped>\n",
       "    .dataframe tbody tr th:only-of-type {\n",
       "        vertical-align: middle;\n",
       "    }\n",
       "\n",
       "    .dataframe tbody tr th {\n",
       "        vertical-align: top;\n",
       "    }\n",
       "\n",
       "    .dataframe thead th {\n",
       "        text-align: right;\n",
       "    }\n",
       "</style>\n",
       "<table border=\"1\" class=\"dataframe\">\n",
       "  <thead>\n",
       "    <tr style=\"text-align: right;\">\n",
       "      <th></th>\n",
       "      <th>Unnamed: 0</th>\n",
       "      <th>Date</th>\n",
       "      <th>HomeTeam</th>\n",
       "      <th>AwayTeam</th>\n",
       "      <th>FTHG</th>\n",
       "      <th>FTAG</th>\n",
       "      <th>FTR</th>\n",
       "      <th>HTHG</th>\n",
       "      <th>HTAG</th>\n",
       "      <th>HTR</th>\n",
       "      <th>Season</th>\n",
       "    </tr>\n",
       "  </thead>\n",
       "  <tbody>\n",
       "    <tr>\n",
       "      <td>0</td>\n",
       "      <td>4</td>\n",
       "      <td>14/08/93</td>\n",
       "      <td>Liverpool</td>\n",
       "      <td>Sheffield Weds</td>\n",
       "      <td>2</td>\n",
       "      <td>0</td>\n",
       "      <td>H</td>\n",
       "      <td>NaN</td>\n",
       "      <td>NaN</td>\n",
       "      <td>NaN</td>\n",
       "      <td>1993-94</td>\n",
       "    </tr>\n",
       "    <tr>\n",
       "      <td>1</td>\n",
       "      <td>20</td>\n",
       "      <td>18/08/93</td>\n",
       "      <td>QPR</td>\n",
       "      <td>Liverpool</td>\n",
       "      <td>1</td>\n",
       "      <td>3</td>\n",
       "      <td>A</td>\n",
       "      <td>NaN</td>\n",
       "      <td>NaN</td>\n",
       "      <td>NaN</td>\n",
       "      <td>1993-94</td>\n",
       "    </tr>\n",
       "    <tr>\n",
       "      <td>2</td>\n",
       "      <td>33</td>\n",
       "      <td>22/08/93</td>\n",
       "      <td>Swindon</td>\n",
       "      <td>Liverpool</td>\n",
       "      <td>0</td>\n",
       "      <td>5</td>\n",
       "      <td>A</td>\n",
       "      <td>NaN</td>\n",
       "      <td>NaN</td>\n",
       "      <td>NaN</td>\n",
       "      <td>1993-94</td>\n",
       "    </tr>\n",
       "    <tr>\n",
       "      <td>3</td>\n",
       "      <td>40</td>\n",
       "      <td>25/08/93</td>\n",
       "      <td>Liverpool</td>\n",
       "      <td>Tottenham</td>\n",
       "      <td>1</td>\n",
       "      <td>2</td>\n",
       "      <td>A</td>\n",
       "      <td>NaN</td>\n",
       "      <td>NaN</td>\n",
       "      <td>NaN</td>\n",
       "      <td>1993-94</td>\n",
       "    </tr>\n",
       "    <tr>\n",
       "      <td>4</td>\n",
       "      <td>49</td>\n",
       "      <td>28/08/93</td>\n",
       "      <td>Liverpool</td>\n",
       "      <td>Leeds</td>\n",
       "      <td>2</td>\n",
       "      <td>0</td>\n",
       "      <td>H</td>\n",
       "      <td>NaN</td>\n",
       "      <td>NaN</td>\n",
       "      <td>NaN</td>\n",
       "      <td>1993-94</td>\n",
       "    </tr>\n",
       "    <tr>\n",
       "      <td>...</td>\n",
       "      <td>...</td>\n",
       "      <td>...</td>\n",
       "      <td>...</td>\n",
       "      <td>...</td>\n",
       "      <td>...</td>\n",
       "      <td>...</td>\n",
       "      <td>...</td>\n",
       "      <td>...</td>\n",
       "      <td>...</td>\n",
       "      <td>...</td>\n",
       "      <td>...</td>\n",
       "    </tr>\n",
       "    <tr>\n",
       "      <td>953</td>\n",
       "      <td>9612</td>\n",
       "      <td>14/04/18</td>\n",
       "      <td>Liverpool</td>\n",
       "      <td>Bournemouth</td>\n",
       "      <td>3</td>\n",
       "      <td>0</td>\n",
       "      <td>H</td>\n",
       "      <td>1.0</td>\n",
       "      <td>0.0</td>\n",
       "      <td>H</td>\n",
       "      <td>2017-18</td>\n",
       "    </tr>\n",
       "    <tr>\n",
       "      <td>954</td>\n",
       "      <td>9624</td>\n",
       "      <td>21/04/18</td>\n",
       "      <td>West Brom</td>\n",
       "      <td>Liverpool</td>\n",
       "      <td>2</td>\n",
       "      <td>2</td>\n",
       "      <td>D</td>\n",
       "      <td>0.0</td>\n",
       "      <td>1.0</td>\n",
       "      <td>A</td>\n",
       "      <td>2017-18</td>\n",
       "    </tr>\n",
       "    <tr>\n",
       "      <td>955</td>\n",
       "      <td>9632</td>\n",
       "      <td>28/04/18</td>\n",
       "      <td>Liverpool</td>\n",
       "      <td>Stoke</td>\n",
       "      <td>0</td>\n",
       "      <td>0</td>\n",
       "      <td>D</td>\n",
       "      <td>0.0</td>\n",
       "      <td>0.0</td>\n",
       "      <td>D</td>\n",
       "      <td>2017-18</td>\n",
       "    </tr>\n",
       "    <tr>\n",
       "      <td>956</td>\n",
       "      <td>9647</td>\n",
       "      <td>6/5/2018</td>\n",
       "      <td>Chelsea</td>\n",
       "      <td>Liverpool</td>\n",
       "      <td>1</td>\n",
       "      <td>0</td>\n",
       "      <td>H</td>\n",
       "      <td>1.0</td>\n",
       "      <td>0.0</td>\n",
       "      <td>H</td>\n",
       "      <td>2017-18</td>\n",
       "    </tr>\n",
       "    <tr>\n",
       "      <td>957</td>\n",
       "      <td>9658</td>\n",
       "      <td>13/05/18</td>\n",
       "      <td>Liverpool</td>\n",
       "      <td>Brighton</td>\n",
       "      <td>4</td>\n",
       "      <td>0</td>\n",
       "      <td>H</td>\n",
       "      <td>2.0</td>\n",
       "      <td>0.0</td>\n",
       "      <td>H</td>\n",
       "      <td>2017-18</td>\n",
       "    </tr>\n",
       "  </tbody>\n",
       "</table>\n",
       "<p>958 rows × 11 columns</p>\n",
       "</div>"
      ],
      "text/plain": [
       "     Unnamed: 0      Date   HomeTeam        AwayTeam  FTHG  FTAG FTR  HTHG  \\\n",
       "0             4  14/08/93  Liverpool  Sheffield Weds     2     0   H   NaN   \n",
       "1            20  18/08/93        QPR       Liverpool     1     3   A   NaN   \n",
       "2            33  22/08/93    Swindon       Liverpool     0     5   A   NaN   \n",
       "3            40  25/08/93  Liverpool       Tottenham     1     2   A   NaN   \n",
       "4            49  28/08/93  Liverpool           Leeds     2     0   H   NaN   \n",
       "..          ...       ...        ...             ...   ...   ...  ..   ...   \n",
       "953        9612  14/04/18  Liverpool     Bournemouth     3     0   H   1.0   \n",
       "954        9624  21/04/18  West Brom       Liverpool     2     2   D   0.0   \n",
       "955        9632  28/04/18  Liverpool           Stoke     0     0   D   0.0   \n",
       "956        9647  6/5/2018    Chelsea       Liverpool     1     0   H   1.0   \n",
       "957        9658  13/05/18  Liverpool        Brighton     4     0   H   2.0   \n",
       "\n",
       "     HTAG  HTR   Season  \n",
       "0     NaN  NaN  1993-94  \n",
       "1     NaN  NaN  1993-94  \n",
       "2     NaN  NaN  1993-94  \n",
       "3     NaN  NaN  1993-94  \n",
       "4     NaN  NaN  1993-94  \n",
       "..    ...  ...      ...  \n",
       "953   0.0    H  2017-18  \n",
       "954   1.0    A  2017-18  \n",
       "955   0.0    D  2017-18  \n",
       "956   0.0    H  2017-18  \n",
       "957   0.0    H  2017-18  \n",
       "\n",
       "[958 rows x 11 columns]"
      ]
     },
     "execution_count": 2,
     "metadata": {},
     "output_type": "execute_result"
    }
   ],
   "source": [
    "df=pd.read_csv('liverpoolfcstats.csv')\n",
    "df"
   ]
  },
  {
   "cell_type": "code",
   "execution_count": 3,
   "metadata": {},
   "outputs": [
    {
     "name": "stdout",
     "output_type": "stream",
     "text": [
      "Number of null values in HomeTeam -> 0\n",
      "Number of rows=  958\n"
     ]
    }
   ],
   "source": [
    "print('Number of null values in HomeTeam ->',df['HomeTeam'].isna().sum())\n",
    "print('Number of rows= ', df.shape[0])"
   ]
  },
  {
   "cell_type": "markdown",
   "metadata": {},
   "source": [
    "Need to delete unnamed column."
   ]
  },
  {
   "cell_type": "markdown",
   "metadata": {},
   "source": [
    "https://stackoverflow.com/questions/43983622/remove-unnamed-columns-in-pandas-dataframe"
   ]
  },
  {
   "cell_type": "code",
   "execution_count": 4,
   "metadata": {},
   "outputs": [],
   "source": [
    "df.drop(df.columns[df.columns.str.contains('unnamed', case = False)], axis=1, inplace=True)"
   ]
  },
  {
   "cell_type": "code",
   "execution_count": 5,
   "metadata": {},
   "outputs": [
    {
     "data": {
      "text/html": [
       "<div>\n",
       "<style scoped>\n",
       "    .dataframe tbody tr th:only-of-type {\n",
       "        vertical-align: middle;\n",
       "    }\n",
       "\n",
       "    .dataframe tbody tr th {\n",
       "        vertical-align: top;\n",
       "    }\n",
       "\n",
       "    .dataframe thead th {\n",
       "        text-align: right;\n",
       "    }\n",
       "</style>\n",
       "<table border=\"1\" class=\"dataframe\">\n",
       "  <thead>\n",
       "    <tr style=\"text-align: right;\">\n",
       "      <th></th>\n",
       "      <th>Date</th>\n",
       "      <th>HomeTeam</th>\n",
       "      <th>AwayTeam</th>\n",
       "      <th>FTHG</th>\n",
       "      <th>FTAG</th>\n",
       "      <th>FTR</th>\n",
       "      <th>HTHG</th>\n",
       "      <th>HTAG</th>\n",
       "      <th>HTR</th>\n",
       "      <th>Season</th>\n",
       "    </tr>\n",
       "  </thead>\n",
       "  <tbody>\n",
       "    <tr>\n",
       "      <td>0</td>\n",
       "      <td>14/08/93</td>\n",
       "      <td>Liverpool</td>\n",
       "      <td>Sheffield Weds</td>\n",
       "      <td>2</td>\n",
       "      <td>0</td>\n",
       "      <td>H</td>\n",
       "      <td>NaN</td>\n",
       "      <td>NaN</td>\n",
       "      <td>NaN</td>\n",
       "      <td>1993-94</td>\n",
       "    </tr>\n",
       "    <tr>\n",
       "      <td>1</td>\n",
       "      <td>18/08/93</td>\n",
       "      <td>QPR</td>\n",
       "      <td>Liverpool</td>\n",
       "      <td>1</td>\n",
       "      <td>3</td>\n",
       "      <td>A</td>\n",
       "      <td>NaN</td>\n",
       "      <td>NaN</td>\n",
       "      <td>NaN</td>\n",
       "      <td>1993-94</td>\n",
       "    </tr>\n",
       "    <tr>\n",
       "      <td>2</td>\n",
       "      <td>22/08/93</td>\n",
       "      <td>Swindon</td>\n",
       "      <td>Liverpool</td>\n",
       "      <td>0</td>\n",
       "      <td>5</td>\n",
       "      <td>A</td>\n",
       "      <td>NaN</td>\n",
       "      <td>NaN</td>\n",
       "      <td>NaN</td>\n",
       "      <td>1993-94</td>\n",
       "    </tr>\n",
       "    <tr>\n",
       "      <td>3</td>\n",
       "      <td>25/08/93</td>\n",
       "      <td>Liverpool</td>\n",
       "      <td>Tottenham</td>\n",
       "      <td>1</td>\n",
       "      <td>2</td>\n",
       "      <td>A</td>\n",
       "      <td>NaN</td>\n",
       "      <td>NaN</td>\n",
       "      <td>NaN</td>\n",
       "      <td>1993-94</td>\n",
       "    </tr>\n",
       "    <tr>\n",
       "      <td>4</td>\n",
       "      <td>28/08/93</td>\n",
       "      <td>Liverpool</td>\n",
       "      <td>Leeds</td>\n",
       "      <td>2</td>\n",
       "      <td>0</td>\n",
       "      <td>H</td>\n",
       "      <td>NaN</td>\n",
       "      <td>NaN</td>\n",
       "      <td>NaN</td>\n",
       "      <td>1993-94</td>\n",
       "    </tr>\n",
       "    <tr>\n",
       "      <td>...</td>\n",
       "      <td>...</td>\n",
       "      <td>...</td>\n",
       "      <td>...</td>\n",
       "      <td>...</td>\n",
       "      <td>...</td>\n",
       "      <td>...</td>\n",
       "      <td>...</td>\n",
       "      <td>...</td>\n",
       "      <td>...</td>\n",
       "      <td>...</td>\n",
       "    </tr>\n",
       "    <tr>\n",
       "      <td>953</td>\n",
       "      <td>14/04/18</td>\n",
       "      <td>Liverpool</td>\n",
       "      <td>Bournemouth</td>\n",
       "      <td>3</td>\n",
       "      <td>0</td>\n",
       "      <td>H</td>\n",
       "      <td>1.0</td>\n",
       "      <td>0.0</td>\n",
       "      <td>H</td>\n",
       "      <td>2017-18</td>\n",
       "    </tr>\n",
       "    <tr>\n",
       "      <td>954</td>\n",
       "      <td>21/04/18</td>\n",
       "      <td>West Brom</td>\n",
       "      <td>Liverpool</td>\n",
       "      <td>2</td>\n",
       "      <td>2</td>\n",
       "      <td>D</td>\n",
       "      <td>0.0</td>\n",
       "      <td>1.0</td>\n",
       "      <td>A</td>\n",
       "      <td>2017-18</td>\n",
       "    </tr>\n",
       "    <tr>\n",
       "      <td>955</td>\n",
       "      <td>28/04/18</td>\n",
       "      <td>Liverpool</td>\n",
       "      <td>Stoke</td>\n",
       "      <td>0</td>\n",
       "      <td>0</td>\n",
       "      <td>D</td>\n",
       "      <td>0.0</td>\n",
       "      <td>0.0</td>\n",
       "      <td>D</td>\n",
       "      <td>2017-18</td>\n",
       "    </tr>\n",
       "    <tr>\n",
       "      <td>956</td>\n",
       "      <td>6/5/2018</td>\n",
       "      <td>Chelsea</td>\n",
       "      <td>Liverpool</td>\n",
       "      <td>1</td>\n",
       "      <td>0</td>\n",
       "      <td>H</td>\n",
       "      <td>1.0</td>\n",
       "      <td>0.0</td>\n",
       "      <td>H</td>\n",
       "      <td>2017-18</td>\n",
       "    </tr>\n",
       "    <tr>\n",
       "      <td>957</td>\n",
       "      <td>13/05/18</td>\n",
       "      <td>Liverpool</td>\n",
       "      <td>Brighton</td>\n",
       "      <td>4</td>\n",
       "      <td>0</td>\n",
       "      <td>H</td>\n",
       "      <td>2.0</td>\n",
       "      <td>0.0</td>\n",
       "      <td>H</td>\n",
       "      <td>2017-18</td>\n",
       "    </tr>\n",
       "  </tbody>\n",
       "</table>\n",
       "<p>958 rows × 10 columns</p>\n",
       "</div>"
      ],
      "text/plain": [
       "         Date   HomeTeam        AwayTeam  FTHG  FTAG FTR  HTHG  HTAG  HTR  \\\n",
       "0    14/08/93  Liverpool  Sheffield Weds     2     0   H   NaN   NaN  NaN   \n",
       "1    18/08/93        QPR       Liverpool     1     3   A   NaN   NaN  NaN   \n",
       "2    22/08/93    Swindon       Liverpool     0     5   A   NaN   NaN  NaN   \n",
       "3    25/08/93  Liverpool       Tottenham     1     2   A   NaN   NaN  NaN   \n",
       "4    28/08/93  Liverpool           Leeds     2     0   H   NaN   NaN  NaN   \n",
       "..        ...        ...             ...   ...   ...  ..   ...   ...  ...   \n",
       "953  14/04/18  Liverpool     Bournemouth     3     0   H   1.0   0.0    H   \n",
       "954  21/04/18  West Brom       Liverpool     2     2   D   0.0   1.0    A   \n",
       "955  28/04/18  Liverpool           Stoke     0     0   D   0.0   0.0    D   \n",
       "956  6/5/2018    Chelsea       Liverpool     1     0   H   1.0   0.0    H   \n",
       "957  13/05/18  Liverpool        Brighton     4     0   H   2.0   0.0    H   \n",
       "\n",
       "      Season  \n",
       "0    1993-94  \n",
       "1    1993-94  \n",
       "2    1993-94  \n",
       "3    1993-94  \n",
       "4    1993-94  \n",
       "..       ...  \n",
       "953  2017-18  \n",
       "954  2017-18  \n",
       "955  2017-18  \n",
       "956  2017-18  \n",
       "957  2017-18  \n",
       "\n",
       "[958 rows x 10 columns]"
      ]
     },
     "execution_count": 5,
     "metadata": {},
     "output_type": "execute_result"
    }
   ],
   "source": [
    "df"
   ]
  },
  {
   "cell_type": "code",
   "execution_count": 6,
   "metadata": {},
   "outputs": [
    {
     "data": {
      "text/plain": [
       "3"
      ]
     },
     "execution_count": 6,
     "metadata": {},
     "output_type": "execute_result"
    }
   ],
   "source": [
    "df['FTR'].nunique()"
   ]
  },
  {
   "cell_type": "markdown",
   "metadata": {},
   "source": [
    "Mapping full time result (ftr), mapping will convert string values into integers which will benefit us at the time of visualization."
   ]
  },
  {
   "cell_type": "markdown",
   "metadata": {},
   "source": [
    "https://www.geeksforgeeks.org/replacing-strings-with-numbers-in-python-for-data-analysis/"
   ]
  },
  {
   "cell_type": "code",
   "execution_count": 7,
   "metadata": {},
   "outputs": [
    {
     "data": {
      "text/html": [
       "<div>\n",
       "<style scoped>\n",
       "    .dataframe tbody tr th:only-of-type {\n",
       "        vertical-align: middle;\n",
       "    }\n",
       "\n",
       "    .dataframe tbody tr th {\n",
       "        vertical-align: top;\n",
       "    }\n",
       "\n",
       "    .dataframe thead th {\n",
       "        text-align: right;\n",
       "    }\n",
       "</style>\n",
       "<table border=\"1\" class=\"dataframe\">\n",
       "  <thead>\n",
       "    <tr style=\"text-align: right;\">\n",
       "      <th></th>\n",
       "      <th>Date</th>\n",
       "      <th>HomeTeam</th>\n",
       "      <th>AwayTeam</th>\n",
       "      <th>FTHG</th>\n",
       "      <th>FTAG</th>\n",
       "      <th>FTR</th>\n",
       "      <th>HTHG</th>\n",
       "      <th>HTAG</th>\n",
       "      <th>HTR</th>\n",
       "      <th>Season</th>\n",
       "    </tr>\n",
       "  </thead>\n",
       "  <tbody>\n",
       "    <tr>\n",
       "      <td>0</td>\n",
       "      <td>14/08/93</td>\n",
       "      <td>Liverpool</td>\n",
       "      <td>Sheffield Weds</td>\n",
       "      <td>2</td>\n",
       "      <td>0</td>\n",
       "      <td>1</td>\n",
       "      <td>NaN</td>\n",
       "      <td>NaN</td>\n",
       "      <td>NaN</td>\n",
       "      <td>1993-94</td>\n",
       "    </tr>\n",
       "    <tr>\n",
       "      <td>1</td>\n",
       "      <td>18/08/93</td>\n",
       "      <td>QPR</td>\n",
       "      <td>Liverpool</td>\n",
       "      <td>1</td>\n",
       "      <td>3</td>\n",
       "      <td>2</td>\n",
       "      <td>NaN</td>\n",
       "      <td>NaN</td>\n",
       "      <td>NaN</td>\n",
       "      <td>1993-94</td>\n",
       "    </tr>\n",
       "    <tr>\n",
       "      <td>2</td>\n",
       "      <td>22/08/93</td>\n",
       "      <td>Swindon</td>\n",
       "      <td>Liverpool</td>\n",
       "      <td>0</td>\n",
       "      <td>5</td>\n",
       "      <td>2</td>\n",
       "      <td>NaN</td>\n",
       "      <td>NaN</td>\n",
       "      <td>NaN</td>\n",
       "      <td>1993-94</td>\n",
       "    </tr>\n",
       "    <tr>\n",
       "      <td>3</td>\n",
       "      <td>25/08/93</td>\n",
       "      <td>Liverpool</td>\n",
       "      <td>Tottenham</td>\n",
       "      <td>1</td>\n",
       "      <td>2</td>\n",
       "      <td>2</td>\n",
       "      <td>NaN</td>\n",
       "      <td>NaN</td>\n",
       "      <td>NaN</td>\n",
       "      <td>1993-94</td>\n",
       "    </tr>\n",
       "    <tr>\n",
       "      <td>4</td>\n",
       "      <td>28/08/93</td>\n",
       "      <td>Liverpool</td>\n",
       "      <td>Leeds</td>\n",
       "      <td>2</td>\n",
       "      <td>0</td>\n",
       "      <td>1</td>\n",
       "      <td>NaN</td>\n",
       "      <td>NaN</td>\n",
       "      <td>NaN</td>\n",
       "      <td>1993-94</td>\n",
       "    </tr>\n",
       "    <tr>\n",
       "      <td>...</td>\n",
       "      <td>...</td>\n",
       "      <td>...</td>\n",
       "      <td>...</td>\n",
       "      <td>...</td>\n",
       "      <td>...</td>\n",
       "      <td>...</td>\n",
       "      <td>...</td>\n",
       "      <td>...</td>\n",
       "      <td>...</td>\n",
       "      <td>...</td>\n",
       "    </tr>\n",
       "    <tr>\n",
       "      <td>953</td>\n",
       "      <td>14/04/18</td>\n",
       "      <td>Liverpool</td>\n",
       "      <td>Bournemouth</td>\n",
       "      <td>3</td>\n",
       "      <td>0</td>\n",
       "      <td>1</td>\n",
       "      <td>1.0</td>\n",
       "      <td>0.0</td>\n",
       "      <td>H</td>\n",
       "      <td>2017-18</td>\n",
       "    </tr>\n",
       "    <tr>\n",
       "      <td>954</td>\n",
       "      <td>21/04/18</td>\n",
       "      <td>West Brom</td>\n",
       "      <td>Liverpool</td>\n",
       "      <td>2</td>\n",
       "      <td>2</td>\n",
       "      <td>0</td>\n",
       "      <td>0.0</td>\n",
       "      <td>1.0</td>\n",
       "      <td>A</td>\n",
       "      <td>2017-18</td>\n",
       "    </tr>\n",
       "    <tr>\n",
       "      <td>955</td>\n",
       "      <td>28/04/18</td>\n",
       "      <td>Liverpool</td>\n",
       "      <td>Stoke</td>\n",
       "      <td>0</td>\n",
       "      <td>0</td>\n",
       "      <td>0</td>\n",
       "      <td>0.0</td>\n",
       "      <td>0.0</td>\n",
       "      <td>D</td>\n",
       "      <td>2017-18</td>\n",
       "    </tr>\n",
       "    <tr>\n",
       "      <td>956</td>\n",
       "      <td>6/5/2018</td>\n",
       "      <td>Chelsea</td>\n",
       "      <td>Liverpool</td>\n",
       "      <td>1</td>\n",
       "      <td>0</td>\n",
       "      <td>1</td>\n",
       "      <td>1.0</td>\n",
       "      <td>0.0</td>\n",
       "      <td>H</td>\n",
       "      <td>2017-18</td>\n",
       "    </tr>\n",
       "    <tr>\n",
       "      <td>957</td>\n",
       "      <td>13/05/18</td>\n",
       "      <td>Liverpool</td>\n",
       "      <td>Brighton</td>\n",
       "      <td>4</td>\n",
       "      <td>0</td>\n",
       "      <td>1</td>\n",
       "      <td>2.0</td>\n",
       "      <td>0.0</td>\n",
       "      <td>H</td>\n",
       "      <td>2017-18</td>\n",
       "    </tr>\n",
       "  </tbody>\n",
       "</table>\n",
       "<p>958 rows × 10 columns</p>\n",
       "</div>"
      ],
      "text/plain": [
       "         Date   HomeTeam        AwayTeam  FTHG  FTAG  FTR  HTHG  HTAG  HTR  \\\n",
       "0    14/08/93  Liverpool  Sheffield Weds     2     0    1   NaN   NaN  NaN   \n",
       "1    18/08/93        QPR       Liverpool     1     3    2   NaN   NaN  NaN   \n",
       "2    22/08/93    Swindon       Liverpool     0     5    2   NaN   NaN  NaN   \n",
       "3    25/08/93  Liverpool       Tottenham     1     2    2   NaN   NaN  NaN   \n",
       "4    28/08/93  Liverpool           Leeds     2     0    1   NaN   NaN  NaN   \n",
       "..        ...        ...             ...   ...   ...  ...   ...   ...  ...   \n",
       "953  14/04/18  Liverpool     Bournemouth     3     0    1   1.0   0.0    H   \n",
       "954  21/04/18  West Brom       Liverpool     2     2    0   0.0   1.0    A   \n",
       "955  28/04/18  Liverpool           Stoke     0     0    0   0.0   0.0    D   \n",
       "956  6/5/2018    Chelsea       Liverpool     1     0    1   1.0   0.0    H   \n",
       "957  13/05/18  Liverpool        Brighton     4     0    1   2.0   0.0    H   \n",
       "\n",
       "      Season  \n",
       "0    1993-94  \n",
       "1    1993-94  \n",
       "2    1993-94  \n",
       "3    1993-94  \n",
       "4    1993-94  \n",
       "..       ...  \n",
       "953  2017-18  \n",
       "954  2017-18  \n",
       "955  2017-18  \n",
       "956  2017-18  \n",
       "957  2017-18  \n",
       "\n",
       "[958 rows x 10 columns]"
      ]
     },
     "execution_count": 7,
     "metadata": {},
     "output_type": "execute_result"
    }
   ],
   "source": [
    "mapping={'D':0, 'H':1, 'A':2}\n",
    "df['FTR']=[mapping[i] for i in df['FTR']]\n",
    "df"
   ]
  },
  {
   "cell_type": "code",
   "execution_count": 8,
   "metadata": {},
   "outputs": [
    {
     "data": {
      "text/plain": [
       "50"
      ]
     },
     "execution_count": 8,
     "metadata": {},
     "output_type": "execute_result"
    }
   ],
   "source": [
    "df['HomeTeam'].nunique()\n",
    "df['AwayTeam'].nunique()"
   ]
  },
  {
   "cell_type": "markdown",
   "metadata": {},
   "source": [
    "Home team column has team names and 50% of it has liverpool as an element as comparison is with liverpool and all other teams."
   ]
  },
  {
   "cell_type": "markdown",
   "metadata": {},
   "source": [
    "function for value count."
   ]
  },
  {
   "cell_type": "code",
   "execution_count": 9,
   "metadata": {},
   "outputs": [],
   "source": [
    "def values(dataframe):\n",
    "    data=dataframe.value_counts()\n",
    "    return data"
   ]
  },
  {
   "cell_type": "code",
   "execution_count": 10,
   "metadata": {},
   "outputs": [
    {
     "data": {
      "text/plain": [
       "Liverpool           479\n",
       "Chelsea              25\n",
       "Everton              25\n",
       "Arsenal              25\n",
       "Tottenham            25\n",
       "Man United           25\n",
       "Newcastle            23\n",
       "Aston Villa          23\n",
       "West Ham             22\n",
       "Man City             20\n",
       "Southampton          18\n",
       "Blackburn            17\n",
       "Sunderland           16\n",
       "Bolton               13\n",
       "Middlesbrough        13\n",
       "Fulham               13\n",
       "Leicester            12\n",
       "West Brom            12\n",
       "Leeds                11\n",
       "Stoke                10\n",
       "Coventry              8\n",
       "Charlton              8\n",
       "Wigan                 8\n",
       "Crystal Palace        8\n",
       "Norwich               7\n",
       "Sheffield Weds        7\n",
       "Swansea               7\n",
       "Birmingham            7\n",
       "Wimbledon             7\n",
       "Derby                 7\n",
       "Portsmouth            7\n",
       "QPR                   6\n",
       "Watford               5\n",
       "Hull                  5\n",
       "Burnley               4\n",
       "Nott'm Forest         4\n",
       "Ipswich               4\n",
       "Wolves                4\n",
       "Reading               3\n",
       "Bournemouth           3\n",
       "Sheffield United      2\n",
       "Bradford              2\n",
       "Barnsley              1\n",
       "Blackpool             1\n",
       "Swindon               1\n",
       "Cardiff               1\n",
       "Middlesboro           1\n",
       "Huddersfield          1\n",
       "Brighton              1\n",
       "Oldham                1\n",
       "Name: AwayTeam, dtype: int64"
      ]
     },
     "execution_count": 10,
     "metadata": {},
     "output_type": "execute_result"
    }
   ],
   "source": [
    "values(df['HomeTeam'])\n",
    "values(df['AwayTeam'])"
   ]
  },
  {
   "cell_type": "code",
   "execution_count": 11,
   "metadata": {},
   "outputs": [
    {
     "data": {
      "text/plain": [
       "Date         object\n",
       "HomeTeam     object\n",
       "AwayTeam     object\n",
       "FTHG          int64\n",
       "FTAG          int64\n",
       "FTR           int64\n",
       "HTHG        float64\n",
       "HTAG        float64\n",
       "HTR          object\n",
       "Season       object\n",
       "dtype: object"
      ]
     },
     "execution_count": 11,
     "metadata": {},
     "output_type": "execute_result"
    }
   ],
   "source": [
    "df.dtypes"
   ]
  },
  {
   "cell_type": "markdown",
   "metadata": {},
   "source": [
    "Function to calculate number of null values."
   ]
  },
  {
   "cell_type": "code",
   "execution_count": 12,
   "metadata": {},
   "outputs": [],
   "source": [
    "def null_values(column):\n",
    "    values=column.isnull().sum()\n",
    "    return values"
   ]
  },
  {
   "cell_type": "code",
   "execution_count": 13,
   "metadata": {},
   "outputs": [
    {
     "data": {
      "text/plain": [
       "Date         0\n",
       "HomeTeam     0\n",
       "AwayTeam     0\n",
       "FTHG         0\n",
       "FTAG         0\n",
       "FTR          0\n",
       "HTHG        84\n",
       "HTAG        84\n",
       "HTR         84\n",
       "Season       0\n",
       "dtype: int64"
      ]
     },
     "execution_count": 13,
     "metadata": {},
     "output_type": "execute_result"
    }
   ],
   "source": [
    "null_values(df)"
   ]
  },
  {
   "cell_type": "markdown",
   "metadata": {},
   "source": [
    "Next cell shows the function to remove null values."
   ]
  },
  {
   "cell_type": "code",
   "execution_count": 14,
   "metadata": {},
   "outputs": [],
   "source": [
    "def remove_nullvals(dataframe):\n",
    "    result=dataframe.fillna(method='bfill')\n",
    "    return result"
   ]
  },
  {
   "cell_type": "markdown",
   "metadata": {},
   "source": [
    "There are 3 columns which have null values and that is not even 1% of the rows, so we can probably ignore the null values, but ignoring null values will be cumbersome as distplot does not allows nan values, so to plot a seaborn distplot we need to remove null values."
   ]
  },
  {
   "cell_type": "markdown",
   "metadata": {},
   "source": [
    "Lets try normalization on the data, so we can better solve the data."
   ]
  },
  {
   "cell_type": "markdown",
   "metadata": {},
   "source": [
    "https://scikit-learn.org/stable/modules/generated/sklearn.preprocessing.normalize.html"
   ]
  },
  {
   "cell_type": "code",
   "execution_count": 15,
   "metadata": {},
   "outputs": [],
   "source": [
    "x_array=np.array([df['FTHG']])\n",
    "normalized_val=preprocessing.normalize(x_array)"
   ]
  },
  {
   "cell_type": "code",
   "execution_count": 16,
   "metadata": {},
   "outputs": [
    {
     "data": {
      "text/plain": [
       "array([[0.03155972, 0.01577986, 0.        , 0.01577986, 0.03155972,\n",
       "        0.01577986, 0.        , 0.03155972, 0.01577986, 0.        ,\n",
       "        0.03155972, 0.01577986, 0.06311944, 0.03155972, 0.04733958,\n",
       "        0.03155972, 0.04733958, 0.04733958, 0.03155972, 0.04733958,\n",
       "        0.        , 0.01577986, 0.01577986, 0.04733958, 0.        ,\n",
       "        0.03155972, 0.03155972, 0.06311944, 0.03155972, 0.01577986,\n",
       "        0.03155972, 0.03155972, 0.03155972, 0.01577986, 0.01577986,\n",
       "        0.01577986, 0.01577986, 0.01577986, 0.        , 0.01577986,\n",
       "        0.        , 0.03155972, 0.01577986, 0.04733958, 0.        ,\n",
       "        0.        , 0.03155972, 0.01577986, 0.06311944, 0.04733958,\n",
       "        0.04733958, 0.04733958, 0.01577986, 0.03155972, 0.01577986,\n",
       "        0.04733958, 0.03155972, 0.01577986, 0.01577986, 0.        ,\n",
       "        0.        , 0.01577986, 0.03155972, 0.        , 0.06311944,\n",
       "        0.        , 0.        , 0.01577986, 0.01577986, 0.01577986,\n",
       "        0.03155972, 0.03155972, 0.03155972, 0.        , 0.04733958,\n",
       "        0.        , 0.        , 0.03155972, 0.03155972, 0.01577986,\n",
       "        0.        , 0.03155972, 0.04733958, 0.03155972, 0.01577986,\n",
       "        0.01577986, 0.01577986, 0.01577986, 0.01577986, 0.04733958,\n",
       "        0.0788993 , 0.03155972, 0.        , 0.01577986, 0.09467916,\n",
       "        0.03155972, 0.01577986, 0.        , 0.03155972, 0.01577986,\n",
       "        0.        , 0.03155972, 0.04733958, 0.03155972, 0.06311944,\n",
       "        0.01577986, 0.0788993 , 0.        , 0.        , 0.01577986,\n",
       "        0.03155972, 0.04733958, 0.03155972, 0.03155972, 0.01577986,\n",
       "        0.06311944, 0.01577986, 0.03155972, 0.01577986, 0.01577986,\n",
       "        0.        , 0.03155972, 0.04733958, 0.03155972, 0.        ,\n",
       "        0.        , 0.03155972, 0.        , 0.0788993 , 0.01577986,\n",
       "        0.01577986, 0.03155972, 0.04733958, 0.        , 0.01577986,\n",
       "        0.01577986, 0.        , 0.        , 0.0788993 , 0.06311944,\n",
       "        0.01577986, 0.01577986, 0.        , 0.01577986, 0.        ,\n",
       "        0.04733958, 0.        , 0.06311944, 0.        , 0.01577986,\n",
       "        0.06311944, 0.01577986, 0.01577986, 0.01577986, 0.01577986,\n",
       "        0.01577986, 0.01577986, 0.03155972, 0.03155972, 0.01577986,\n",
       "        0.01577986, 0.01577986, 0.01577986, 0.        , 0.03155972,\n",
       "        0.01577986, 0.04733958, 0.03155972, 0.06311944, 0.03155972,\n",
       "        0.06311944, 0.01577986, 0.06311944, 0.        , 0.        ,\n",
       "        0.01577986, 0.        , 0.01577986, 0.04733958, 0.01577986,\n",
       "        0.03155972, 0.        , 0.01577986, 0.        , 0.03155972,\n",
       "        0.04733958, 0.01577986, 0.03155972, 0.03155972, 0.04733958,\n",
       "        0.03155972, 0.01577986, 0.03155972, 0.01577986, 0.06311944,\n",
       "        0.0788993 , 0.06311944, 0.01577986, 0.01577986, 0.        ,\n",
       "        0.01577986, 0.03155972, 0.03155972, 0.04733958, 0.03155972,\n",
       "        0.01577986, 0.        , 0.0788993 , 0.01577986, 0.01577986,\n",
       "        0.01577986, 0.03155972, 0.03155972, 0.03155972, 0.01577986,\n",
       "        0.03155972, 0.01577986, 0.06311944, 0.        , 0.11045902,\n",
       "        0.03155972, 0.04733958, 0.01577986, 0.03155972, 0.03155972,\n",
       "        0.04733958, 0.04733958, 0.03155972, 0.        , 0.        ,\n",
       "        0.        , 0.01577986, 0.04733958, 0.03155972, 0.01577986,\n",
       "        0.04733958, 0.01577986, 0.        , 0.01577986, 0.01577986,\n",
       "        0.03155972, 0.03155972, 0.03155972, 0.        , 0.        ,\n",
       "        0.01577986, 0.01577986, 0.01577986, 0.04733958, 0.03155972,\n",
       "        0.        , 0.01577986, 0.06311944, 0.03155972, 0.03155972,\n",
       "        0.04733958, 0.01577986, 0.03155972, 0.        , 0.04733958,\n",
       "        0.        , 0.01577986, 0.01577986, 0.        , 0.        ,\n",
       "        0.03155972, 0.        , 0.03155972, 0.01577986, 0.        ,\n",
       "        0.03155972, 0.        , 0.        , 0.01577986, 0.01577986,\n",
       "        0.03155972, 0.04733958, 0.04733958, 0.04733958, 0.01577986,\n",
       "        0.01577986, 0.04733958, 0.        , 0.01577986, 0.04733958,\n",
       "        0.06311944, 0.06311944, 0.03155972, 0.03155972, 0.04733958,\n",
       "        0.        , 0.        , 0.06311944, 0.01577986, 0.03155972,\n",
       "        0.        , 0.        , 0.01577986, 0.04733958, 0.01577986,\n",
       "        0.03155972, 0.01577986, 0.03155972, 0.01577986, 0.01577986,\n",
       "        0.03155972, 0.04733958, 0.        , 0.        , 0.04733958,\n",
       "        0.03155972, 0.        , 0.03155972, 0.03155972, 0.01577986,\n",
       "        0.01577986, 0.01577986, 0.        , 0.01577986, 0.01577986,\n",
       "        0.        , 0.04733958, 0.01577986, 0.01577986, 0.        ,\n",
       "        0.03155972, 0.        , 0.06311944, 0.01577986, 0.01577986,\n",
       "        0.01577986, 0.01577986, 0.03155972, 0.01577986, 0.01577986,\n",
       "        0.        , 0.01577986, 0.        , 0.        , 0.01577986,\n",
       "        0.        , 0.04733958, 0.01577986, 0.01577986, 0.03155972,\n",
       "        0.        , 0.03155972, 0.01577986, 0.06311944, 0.0788993 ,\n",
       "        0.        , 0.04733958, 0.03155972, 0.03155972, 0.03155972,\n",
       "        0.03155972, 0.03155972, 0.        , 0.01577986, 0.        ,\n",
       "        0.03155972, 0.03155972, 0.01577986, 0.        , 0.04733958,\n",
       "        0.01577986, 0.03155972, 0.03155972, 0.        , 0.01577986,\n",
       "        0.01577986, 0.01577986, 0.01577986, 0.        , 0.03155972,\n",
       "        0.        , 0.01577986, 0.03155972, 0.03155972, 0.03155972,\n",
       "        0.04733958, 0.06311944, 0.03155972, 0.01577986, 0.03155972,\n",
       "        0.        , 0.01577986, 0.03155972, 0.01577986, 0.        ,\n",
       "        0.        , 0.        , 0.01577986, 0.03155972, 0.04733958,\n",
       "        0.01577986, 0.01577986, 0.04733958, 0.01577986, 0.01577986,\n",
       "        0.        , 0.04733958, 0.01577986, 0.01577986, 0.04733958,\n",
       "        0.03155972, 0.        , 0.01577986, 0.03155972, 0.01577986,\n",
       "        0.        , 0.03155972, 0.03155972, 0.03155972, 0.03155972,\n",
       "        0.04733958, 0.01577986, 0.        , 0.06311944, 0.06311944,\n",
       "        0.        , 0.        , 0.        , 0.03155972, 0.        ,\n",
       "        0.01577986, 0.01577986, 0.03155972, 0.01577986, 0.04733958,\n",
       "        0.03155972, 0.04733958, 0.01577986, 0.03155972, 0.03155972,\n",
       "        0.03155972, 0.        , 0.04733958, 0.03155972, 0.03155972,\n",
       "        0.01577986, 0.01577986, 0.01577986, 0.04733958, 0.        ,\n",
       "        0.01577986, 0.        , 0.01577986, 0.        , 0.03155972,\n",
       "        0.01577986, 0.04733958, 0.03155972, 0.01577986, 0.        ,\n",
       "        0.03155972, 0.01577986, 0.01577986, 0.03155972, 0.01577986,\n",
       "        0.01577986, 0.01577986, 0.04733958, 0.03155972, 0.        ,\n",
       "        0.01577986, 0.        , 0.        , 0.03155972, 0.01577986,\n",
       "        0.01577986, 0.03155972, 0.03155972, 0.        , 0.04733958,\n",
       "        0.        , 0.        , 0.04733958, 0.03155972, 0.03155972,\n",
       "        0.01577986, 0.01577986, 0.03155972, 0.01577986, 0.01577986,\n",
       "        0.01577986, 0.03155972, 0.03155972, 0.        , 0.01577986,\n",
       "        0.01577986, 0.        , 0.03155972, 0.0788993 , 0.01577986,\n",
       "        0.04733958, 0.        , 0.01577986, 0.        , 0.01577986,\n",
       "        0.04733958, 0.01577986, 0.01577986, 0.03155972, 0.04733958,\n",
       "        0.01577986, 0.03155972, 0.04733958, 0.03155972, 0.01577986,\n",
       "        0.03155972, 0.04733958, 0.03155972, 0.04733958, 0.        ,\n",
       "        0.01577986, 0.        , 0.        , 0.06311944, 0.        ,\n",
       "        0.03155972, 0.01577986, 0.        , 0.04733958, 0.        ,\n",
       "        0.03155972, 0.01577986, 0.        , 0.03155972, 0.06311944,\n",
       "        0.        , 0.        , 0.06311944, 0.01577986, 0.        ,\n",
       "        0.03155972, 0.03155972, 0.03155972, 0.01577986, 0.03155972,\n",
       "        0.01577986, 0.01577986, 0.        , 0.09467916, 0.        ,\n",
       "        0.        , 0.        , 0.03155972, 0.01577986, 0.01577986,\n",
       "        0.        , 0.03155972, 0.        , 0.06311944, 0.04733958,\n",
       "        0.        , 0.06311944, 0.01577986, 0.        , 0.01577986,\n",
       "        0.01577986, 0.03155972, 0.01577986, 0.04733958, 0.        ,\n",
       "        0.04733958, 0.01577986, 0.06311944, 0.04733958, 0.03155972,\n",
       "        0.04733958, 0.01577986, 0.01577986, 0.04733958, 0.        ,\n",
       "        0.03155972, 0.01577986, 0.        , 0.        , 0.03155972,\n",
       "        0.        , 0.03155972, 0.        , 0.        , 0.03155972,\n",
       "        0.04733958, 0.        , 0.01577986, 0.03155972, 0.04733958,\n",
       "        0.        , 0.        , 0.        , 0.01577986, 0.03155972,\n",
       "        0.01577986, 0.04733958, 0.01577986, 0.        , 0.01577986,\n",
       "        0.01577986, 0.03155972, 0.03155972, 0.01577986, 0.03155972,\n",
       "        0.03155972, 0.01577986, 0.0788993 , 0.        , 0.06311944,\n",
       "        0.06311944, 0.01577986, 0.04733958, 0.        , 0.        ,\n",
       "        0.04733958, 0.03155972, 0.06311944, 0.01577986, 0.03155972,\n",
       "        0.06311944, 0.03155972, 0.09467916, 0.03155972, 0.01577986,\n",
       "        0.03155972, 0.04733958, 0.03155972, 0.03155972, 0.        ,\n",
       "        0.        , 0.01577986, 0.03155972, 0.03155972, 0.03155972,\n",
       "        0.        , 0.01577986, 0.03155972, 0.        , 0.03155972,\n",
       "        0.01577986, 0.01577986, 0.        , 0.03155972, 0.01577986,\n",
       "        0.06311944, 0.03155972, 0.04733958, 0.01577986, 0.        ,\n",
       "        0.04733958, 0.        , 0.        , 0.        , 0.01577986,\n",
       "        0.04733958, 0.01577986, 0.        , 0.04733958, 0.03155972,\n",
       "        0.01577986, 0.03155972, 0.03155972, 0.        , 0.03155972,\n",
       "        0.01577986, 0.03155972, 0.04733958, 0.03155972, 0.04733958,\n",
       "        0.04733958, 0.        , 0.03155972, 0.04733958, 0.03155972,\n",
       "        0.03155972, 0.        , 0.01577986, 0.03155972, 0.        ,\n",
       "        0.01577986, 0.04733958, 0.04733958, 0.        , 0.03155972,\n",
       "        0.04733958, 0.01577986, 0.0788993 , 0.04733958, 0.03155972,\n",
       "        0.        , 0.01577986, 0.01577986, 0.        , 0.04733958,\n",
       "        0.01577986, 0.06311944, 0.03155972, 0.        , 0.01577986,\n",
       "        0.01577986, 0.        , 0.        , 0.01577986, 0.01577986,\n",
       "        0.01577986, 0.01577986, 0.        , 0.        , 0.01577986,\n",
       "        0.04733958, 0.04733958, 0.        , 0.04733958, 0.        ,\n",
       "        0.        , 0.03155972, 0.01577986, 0.01577986, 0.04733958,\n",
       "        0.04733958, 0.01577986, 0.03155972, 0.01577986, 0.03155972,\n",
       "        0.        , 0.        , 0.        , 0.06311944, 0.01577986,\n",
       "        0.04733958, 0.03155972, 0.        , 0.01577986, 0.01577986,\n",
       "        0.03155972, 0.        , 0.01577986, 0.03155972, 0.01577986,\n",
       "        0.01577986, 0.04733958, 0.        , 0.03155972, 0.01577986,\n",
       "        0.03155972, 0.01577986, 0.06311944, 0.04733958, 0.        ,\n",
       "        0.04733958, 0.03155972, 0.0788993 , 0.03155972, 0.03155972,\n",
       "        0.        , 0.0788993 , 0.        , 0.04733958, 0.04733958,\n",
       "        0.01577986, 0.        , 0.        , 0.03155972, 0.        ,\n",
       "        0.        , 0.01577986, 0.01577986, 0.01577986, 0.        ,\n",
       "        0.01577986, 0.03155972, 0.        , 0.01577986, 0.04733958,\n",
       "        0.03155972, 0.06311944, 0.03155972, 0.06311944, 0.04733958,\n",
       "        0.04733958, 0.0788993 , 0.06311944, 0.        , 0.04733958,\n",
       "        0.03155972, 0.03155972, 0.03155972, 0.04733958, 0.03155972,\n",
       "        0.06311944, 0.01577986, 0.0788993 , 0.03155972, 0.06311944,\n",
       "        0.        , 0.        , 0.04733958, 0.03155972, 0.06311944,\n",
       "        0.01577986, 0.04733958, 0.03155972, 0.        , 0.04733958,\n",
       "        0.03155972, 0.03155972, 0.04733958, 0.        , 0.        ,\n",
       "        0.04733958, 0.01577986, 0.03155972, 0.03155972, 0.        ,\n",
       "        0.01577986, 0.01577986, 0.04733958, 0.01577986, 0.01577986,\n",
       "        0.        , 0.04733958, 0.03155972, 0.        , 0.06311944,\n",
       "        0.03155972, 0.        , 0.        , 0.03155972, 0.        ,\n",
       "        0.04733958, 0.        , 0.03155972, 0.03155972, 0.        ,\n",
       "        0.01577986, 0.06311944, 0.03155972, 0.        , 0.01577986,\n",
       "        0.03155972, 0.01577986, 0.01577986, 0.09467916, 0.        ,\n",
       "        0.01577986, 0.        , 0.        , 0.04733958, 0.01577986,\n",
       "        0.04733958, 0.01577986, 0.        , 0.01577986, 0.01577986,\n",
       "        0.01577986, 0.01577986, 0.01577986, 0.03155972, 0.03155972,\n",
       "        0.04733958, 0.01577986, 0.        , 0.03155972, 0.04733958,\n",
       "        0.        , 0.06311944, 0.03155972, 0.03155972, 0.        ,\n",
       "        0.04733958, 0.01577986, 0.04733958, 0.01577986, 0.06311944,\n",
       "        0.01577986, 0.06311944, 0.03155972, 0.04733958, 0.03155972,\n",
       "        0.01577986, 0.01577986, 0.04733958, 0.03155972, 0.01577986,\n",
       "        0.06311944, 0.01577986, 0.0788993 , 0.01577986, 0.        ,\n",
       "        0.03155972, 0.03155972, 0.09467916, 0.        , 0.03155972,\n",
       "        0.06311944, 0.03155972, 0.        , 0.        , 0.06311944,\n",
       "        0.01577986, 0.03155972, 0.01577986, 0.03155972, 0.01577986,\n",
       "        0.03155972, 0.03155972, 0.04733958, 0.04733958, 0.03155972,\n",
       "        0.01577986, 0.04733958, 0.03155972, 0.01577986, 0.        ,\n",
       "        0.01577986, 0.        , 0.        , 0.        , 0.04733958,\n",
       "        0.04733958, 0.01577986, 0.06311944, 0.0788993 , 0.01577986,\n",
       "        0.03155972, 0.01577986, 0.        , 0.06311944, 0.04733958,\n",
       "        0.01577986, 0.04733958, 0.01577986, 0.        , 0.01577986,\n",
       "        0.01577986, 0.        , 0.        , 0.04733958, 0.0788993 ,\n",
       "        0.03155972, 0.01577986, 0.06311944, 0.01577986, 0.        ,\n",
       "        0.03155972, 0.        , 0.06311944, 0.03155972, 0.03155972,\n",
       "        0.0788993 , 0.01577986, 0.        , 0.04733958, 0.03155972,\n",
       "        0.        , 0.01577986, 0.06311944]])"
      ]
     },
     "execution_count": 16,
     "metadata": {},
     "output_type": "execute_result"
    }
   ],
   "source": [
    "normalized_val"
   ]
  },
  {
   "cell_type": "markdown",
   "metadata": {},
   "source": [
    "https://seaborn.pydata.org/generated/seaborn.distplot.html"
   ]
  },
  {
   "cell_type": "markdown",
   "metadata": {},
   "source": [
    "Normalized values are passed through distplot and we get a bell curve showing confidence values and outliers."
   ]
  },
  {
   "cell_type": "code",
   "execution_count": 17,
   "metadata": {},
   "outputs": [
    {
     "data": {
      "image/png": "[encoded data removed]",
      "text/plain": [
       "<Figure size 432x288 with 1 Axes>"
      ]
     },
     "metadata": {
      "needs_background": "light"
     },
     "output_type": "display_data"
    }
   ],
   "source": [
    "ax=sns.distplot(normalized_val, fit=norm, kde=False)\n",
    "_=ax.set(xlabel='normalized values', ylabel='FTHG')"
   ]
  },
  {
   "cell_type": "markdown",
   "metadata": {},
   "source": [
    "lets try by combining the integer columns into in dataframe."
   ]
  },
  {
   "cell_type": "code",
   "execution_count": 18,
   "metadata": {},
   "outputs": [
    {
     "data": {
      "text/html": [
       "<div>\n",
       "<style scoped>\n",
       "    .dataframe tbody tr th:only-of-type {\n",
       "        vertical-align: middle;\n",
       "    }\n",
       "\n",
       "    .dataframe tbody tr th {\n",
       "        vertical-align: top;\n",
       "    }\n",
       "\n",
       "    .dataframe thead th {\n",
       "        text-align: right;\n",
       "    }\n",
       "</style>\n",
       "<table border=\"1\" class=\"dataframe\">\n",
       "  <thead>\n",
       "    <tr style=\"text-align: right;\">\n",
       "      <th></th>\n",
       "      <th>FTHG</th>\n",
       "      <th>FTAG</th>\n",
       "      <th>HTHG</th>\n",
       "      <th>HTAG</th>\n",
       "    </tr>\n",
       "  </thead>\n",
       "  <tbody>\n",
       "    <tr>\n",
       "      <td>0</td>\n",
       "      <td>2</td>\n",
       "      <td>0</td>\n",
       "      <td>NaN</td>\n",
       "      <td>NaN</td>\n",
       "    </tr>\n",
       "    <tr>\n",
       "      <td>1</td>\n",
       "      <td>1</td>\n",
       "      <td>3</td>\n",
       "      <td>NaN</td>\n",
       "      <td>NaN</td>\n",
       "    </tr>\n",
       "    <tr>\n",
       "      <td>2</td>\n",
       "      <td>0</td>\n",
       "      <td>5</td>\n",
       "      <td>NaN</td>\n",
       "      <td>NaN</td>\n",
       "    </tr>\n",
       "    <tr>\n",
       "      <td>3</td>\n",
       "      <td>1</td>\n",
       "      <td>2</td>\n",
       "      <td>NaN</td>\n",
       "      <td>NaN</td>\n",
       "    </tr>\n",
       "    <tr>\n",
       "      <td>4</td>\n",
       "      <td>2</td>\n",
       "      <td>0</td>\n",
       "      <td>NaN</td>\n",
       "      <td>NaN</td>\n",
       "    </tr>\n",
       "    <tr>\n",
       "      <td>...</td>\n",
       "      <td>...</td>\n",
       "      <td>...</td>\n",
       "      <td>...</td>\n",
       "      <td>...</td>\n",
       "    </tr>\n",
       "    <tr>\n",
       "      <td>953</td>\n",
       "      <td>3</td>\n",
       "      <td>0</td>\n",
       "      <td>1.0</td>\n",
       "      <td>0.0</td>\n",
       "    </tr>\n",
       "    <tr>\n",
       "      <td>954</td>\n",
       "      <td>2</td>\n",
       "      <td>2</td>\n",
       "      <td>0.0</td>\n",
       "      <td>1.0</td>\n",
       "    </tr>\n",
       "    <tr>\n",
       "      <td>955</td>\n",
       "      <td>0</td>\n",
       "      <td>0</td>\n",
       "      <td>0.0</td>\n",
       "      <td>0.0</td>\n",
       "    </tr>\n",
       "    <tr>\n",
       "      <td>956</td>\n",
       "      <td>1</td>\n",
       "      <td>0</td>\n",
       "      <td>1.0</td>\n",
       "      <td>0.0</td>\n",
       "    </tr>\n",
       "    <tr>\n",
       "      <td>957</td>\n",
       "      <td>4</td>\n",
       "      <td>0</td>\n",
       "      <td>2.0</td>\n",
       "      <td>0.0</td>\n",
       "    </tr>\n",
       "  </tbody>\n",
       "</table>\n",
       "<p>958 rows × 4 columns</p>\n",
       "</div>"
      ],
      "text/plain": [
       "     FTHG  FTAG  HTHG  HTAG\n",
       "0       2     0   NaN   NaN\n",
       "1       1     3   NaN   NaN\n",
       "2       0     5   NaN   NaN\n",
       "3       1     2   NaN   NaN\n",
       "4       2     0   NaN   NaN\n",
       "..    ...   ...   ...   ...\n",
       "953     3     0   1.0   0.0\n",
       "954     2     2   0.0   1.0\n",
       "955     0     0   0.0   0.0\n",
       "956     1     0   1.0   0.0\n",
       "957     4     0   2.0   0.0\n",
       "\n",
       "[958 rows x 4 columns]"
      ]
     },
     "execution_count": 18,
     "metadata": {},
     "output_type": "execute_result"
    }
   ],
   "source": [
    "df_integers=pd.DataFrame(df, columns=['FTHG','FTAG','HTHG', 'HTAG'])\n",
    "df_integers"
   ]
  },
  {
   "cell_type": "markdown",
   "metadata": {},
   "source": [
    "Applying mapping on HTR to convert string values into integers."
   ]
  },
  {
   "cell_type": "markdown",
   "metadata": {},
   "source": [
    "https://seaborn.pydata.org/generated/seaborn.boxplot.html"
   ]
  },
  {
   "cell_type": "markdown",
   "metadata": {},
   "source": [
    "Box plot shows the outlier and makes us understand that on which values the data doesnot depend, therefore, values at 6 and 7 are outliers as these are independent points so we can remove them."
   ]
  },
  {
   "cell_type": "code",
   "execution_count": 19,
   "metadata": {},
   "outputs": [
    {
     "data": {
      "text/plain": [
       "<matplotlib.axes._subplots.AxesSubplot at 0x7f9220f6f908>"
      ]
     },
     "execution_count": 19,
     "metadata": {},
     "output_type": "execute_result"
    },
    {
     "data": {
      "image/png": "[encoded data removed]",
      "text/plain": [
       "<Figure size 432x288 with 1 Axes>"
      ]
     },
     "metadata": {
      "needs_background": "light"
     },
     "output_type": "display_data"
    }
   ],
   "source": [
    "sns.boxplot(x=df_integers['FTHG'],y=df_integers['FTAG'], linewidth=2.5)"
   ]
  },
  {
   "cell_type": "code",
   "execution_count": 20,
   "metadata": {},
   "outputs": [
    {
     "data": {
      "text/plain": [
       "FTHG    7.0\n",
       "FTAG    6.0\n",
       "HTHG    5.0\n",
       "HTAG    4.0\n",
       "dtype: float64"
      ]
     },
     "execution_count": 20,
     "metadata": {},
     "output_type": "execute_result"
    }
   ],
   "source": [
    "np.max(df_integers)"
   ]
  },
  {
   "cell_type": "markdown",
   "metadata": {},
   "source": [
    "This explains the boxplot, as values of 6 and 7 are very less that is why they have independent boxes."
   ]
  },
  {
   "cell_type": "code",
   "execution_count": 21,
   "metadata": {},
   "outputs": [
    {
     "data": {
      "text/plain": [
       "1    286\n",
       "2    240\n",
       "0    220\n",
       "3    131\n",
       "4     57\n",
       "5     18\n",
       "6      5\n",
       "7      1\n",
       "Name: FTHG, dtype: int64"
      ]
     },
     "execution_count": 21,
     "metadata": {},
     "output_type": "execute_result"
    }
   ],
   "source": [
    "values(df_integers['FTHG'])"
   ]
  },
  {
   "cell_type": "markdown",
   "metadata": {},
   "source": [
    "To plot a distplot under seaborn we need to remove all the nan values or else it will show error."
   ]
  },
  {
   "cell_type": "markdown",
   "metadata": {},
   "source": [
    "* The reason I used bfill is that it will fill the null values backwords and I did not use mean because it was replacing the values with floating values which can't be realistic in terms of goals, whereas using ffill gives back null values."
   ]
  },
  {
   "cell_type": "code",
   "execution_count": 22,
   "metadata": {},
   "outputs": [],
   "source": [
    "df['HTHG']=remove_nullvals(df['HTHG'])\n",
    "df['HTAG']=remove_nullvals(df['HTAG'])\n",
    "df['HTR']=remove_nullvals(df['HTR'])"
   ]
  },
  {
   "cell_type": "markdown",
   "metadata": {},
   "source": [
    "# Hypothesis 1"
   ]
  },
  {
   "cell_type": "markdown",
   "metadata": {},
   "source": [
    "* The probability of winning of Liverpool is more when it plays in their home ground."
   ]
  },
  {
   "cell_type": "markdown",
   "metadata": {},
   "source": [
    "# Dataset - Where HomeTeam is Liverpool"
   ]
  },
  {
   "cell_type": "code",
   "execution_count": 23,
   "metadata": {},
   "outputs": [],
   "source": [
    "df_Liverpool=df[df['HomeTeam']=='Liverpool']"
   ]
  },
  {
   "cell_type": "markdown",
   "metadata": {},
   "source": [
    "This shows all the stats where hometeam is liverpool."
   ]
  },
  {
   "cell_type": "code",
   "execution_count": 24,
   "metadata": {},
   "outputs": [
    {
     "data": {
      "text/html": [
       "<div>\n",
       "<style scoped>\n",
       "    .dataframe tbody tr th:only-of-type {\n",
       "        vertical-align: middle;\n",
       "    }\n",
       "\n",
       "    .dataframe tbody tr th {\n",
       "        vertical-align: top;\n",
       "    }\n",
       "\n",
       "    .dataframe thead th {\n",
       "        text-align: right;\n",
       "    }\n",
       "</style>\n",
       "<table border=\"1\" class=\"dataframe\">\n",
       "  <thead>\n",
       "    <tr style=\"text-align: right;\">\n",
       "      <th></th>\n",
       "      <th>Date</th>\n",
       "      <th>HomeTeam</th>\n",
       "      <th>AwayTeam</th>\n",
       "      <th>FTHG</th>\n",
       "      <th>FTAG</th>\n",
       "      <th>FTR</th>\n",
       "      <th>HTHG</th>\n",
       "      <th>HTAG</th>\n",
       "      <th>HTR</th>\n",
       "      <th>Season</th>\n",
       "    </tr>\n",
       "  </thead>\n",
       "  <tbody>\n",
       "    <tr>\n",
       "      <td>0</td>\n",
       "      <td>14/08/93</td>\n",
       "      <td>Liverpool</td>\n",
       "      <td>Sheffield Weds</td>\n",
       "      <td>2</td>\n",
       "      <td>0</td>\n",
       "      <td>1</td>\n",
       "      <td>0.0</td>\n",
       "      <td>0.0</td>\n",
       "      <td>D</td>\n",
       "      <td>1993-94</td>\n",
       "    </tr>\n",
       "    <tr>\n",
       "      <td>3</td>\n",
       "      <td>25/08/93</td>\n",
       "      <td>Liverpool</td>\n",
       "      <td>Tottenham</td>\n",
       "      <td>1</td>\n",
       "      <td>2</td>\n",
       "      <td>2</td>\n",
       "      <td>0.0</td>\n",
       "      <td>0.0</td>\n",
       "      <td>D</td>\n",
       "      <td>1993-94</td>\n",
       "    </tr>\n",
       "    <tr>\n",
       "      <td>4</td>\n",
       "      <td>28/08/93</td>\n",
       "      <td>Liverpool</td>\n",
       "      <td>Leeds</td>\n",
       "      <td>2</td>\n",
       "      <td>0</td>\n",
       "      <td>1</td>\n",
       "      <td>0.0</td>\n",
       "      <td>0.0</td>\n",
       "      <td>D</td>\n",
       "      <td>1993-94</td>\n",
       "    </tr>\n",
       "    <tr>\n",
       "      <td>6</td>\n",
       "      <td>12/9/1993</td>\n",
       "      <td>Liverpool</td>\n",
       "      <td>Blackburn</td>\n",
       "      <td>0</td>\n",
       "      <td>1</td>\n",
       "      <td>2</td>\n",
       "      <td>0.0</td>\n",
       "      <td>0.0</td>\n",
       "      <td>D</td>\n",
       "      <td>1993-94</td>\n",
       "    </tr>\n",
       "    <tr>\n",
       "      <td>9</td>\n",
       "      <td>2/10/1993</td>\n",
       "      <td>Liverpool</td>\n",
       "      <td>Arsenal</td>\n",
       "      <td>0</td>\n",
       "      <td>0</td>\n",
       "      <td>0</td>\n",
       "      <td>0.0</td>\n",
       "      <td>0.0</td>\n",
       "      <td>D</td>\n",
       "      <td>1993-94</td>\n",
       "    </tr>\n",
       "    <tr>\n",
       "      <td>...</td>\n",
       "      <td>...</td>\n",
       "      <td>...</td>\n",
       "      <td>...</td>\n",
       "      <td>...</td>\n",
       "      <td>...</td>\n",
       "      <td>...</td>\n",
       "      <td>...</td>\n",
       "      <td>...</td>\n",
       "      <td>...</td>\n",
       "      <td>...</td>\n",
       "    </tr>\n",
       "    <tr>\n",
       "      <td>948</td>\n",
       "      <td>3/3/2018</td>\n",
       "      <td>Liverpool</td>\n",
       "      <td>Newcastle</td>\n",
       "      <td>2</td>\n",
       "      <td>0</td>\n",
       "      <td>1</td>\n",
       "      <td>1.0</td>\n",
       "      <td>0.0</td>\n",
       "      <td>H</td>\n",
       "      <td>2017-18</td>\n",
       "    </tr>\n",
       "    <tr>\n",
       "      <td>950</td>\n",
       "      <td>17/03/18</td>\n",
       "      <td>Liverpool</td>\n",
       "      <td>Watford</td>\n",
       "      <td>5</td>\n",
       "      <td>0</td>\n",
       "      <td>1</td>\n",
       "      <td>2.0</td>\n",
       "      <td>0.0</td>\n",
       "      <td>H</td>\n",
       "      <td>2017-18</td>\n",
       "    </tr>\n",
       "    <tr>\n",
       "      <td>953</td>\n",
       "      <td>14/04/18</td>\n",
       "      <td>Liverpool</td>\n",
       "      <td>Bournemouth</td>\n",
       "      <td>3</td>\n",
       "      <td>0</td>\n",
       "      <td>1</td>\n",
       "      <td>1.0</td>\n",
       "      <td>0.0</td>\n",
       "      <td>H</td>\n",
       "      <td>2017-18</td>\n",
       "    </tr>\n",
       "    <tr>\n",
       "      <td>955</td>\n",
       "      <td>28/04/18</td>\n",
       "      <td>Liverpool</td>\n",
       "      <td>Stoke</td>\n",
       "      <td>0</td>\n",
       "      <td>0</td>\n",
       "      <td>0</td>\n",
       "      <td>0.0</td>\n",
       "      <td>0.0</td>\n",
       "      <td>D</td>\n",
       "      <td>2017-18</td>\n",
       "    </tr>\n",
       "    <tr>\n",
       "      <td>957</td>\n",
       "      <td>13/05/18</td>\n",
       "      <td>Liverpool</td>\n",
       "      <td>Brighton</td>\n",
       "      <td>4</td>\n",
       "      <td>0</td>\n",
       "      <td>1</td>\n",
       "      <td>2.0</td>\n",
       "      <td>0.0</td>\n",
       "      <td>H</td>\n",
       "      <td>2017-18</td>\n",
       "    </tr>\n",
       "  </tbody>\n",
       "</table>\n",
       "<p>479 rows × 10 columns</p>\n",
       "</div>"
      ],
      "text/plain": [
       "          Date   HomeTeam        AwayTeam  FTHG  FTAG  FTR  HTHG  HTAG HTR  \\\n",
       "0     14/08/93  Liverpool  Sheffield Weds     2     0    1   0.0   0.0   D   \n",
       "3     25/08/93  Liverpool       Tottenham     1     2    2   0.0   0.0   D   \n",
       "4     28/08/93  Liverpool           Leeds     2     0    1   0.0   0.0   D   \n",
       "6    12/9/1993  Liverpool       Blackburn     0     1    2   0.0   0.0   D   \n",
       "9    2/10/1993  Liverpool         Arsenal     0     0    0   0.0   0.0   D   \n",
       "..         ...        ...             ...   ...   ...  ...   ...   ...  ..   \n",
       "948   3/3/2018  Liverpool       Newcastle     2     0    1   1.0   0.0   H   \n",
       "950   17/03/18  Liverpool         Watford     5     0    1   2.0   0.0   H   \n",
       "953   14/04/18  Liverpool     Bournemouth     3     0    1   1.0   0.0   H   \n",
       "955   28/04/18  Liverpool           Stoke     0     0    0   0.0   0.0   D   \n",
       "957   13/05/18  Liverpool        Brighton     4     0    1   2.0   0.0   H   \n",
       "\n",
       "      Season  \n",
       "0    1993-94  \n",
       "3    1993-94  \n",
       "4    1993-94  \n",
       "6    1993-94  \n",
       "9    1993-94  \n",
       "..       ...  \n",
       "948  2017-18  \n",
       "950  2017-18  \n",
       "953  2017-18  \n",
       "955  2017-18  \n",
       "957  2017-18  \n",
       "\n",
       "[479 rows x 10 columns]"
      ]
     },
     "execution_count": 24,
     "metadata": {},
     "output_type": "execute_result"
    }
   ],
   "source": [
    "df_Liverpool"
   ]
  },
  {
   "cell_type": "markdown",
   "metadata": {},
   "source": [
    "# FTR= 0,1,2 shows draw, win, lose respectively, we can clearly see that when liverpool play at home ground it wins most of the matches."
   ]
  },
  {
   "cell_type": "markdown",
   "metadata": {},
   "source": [
    "https://seaborn.pydata.org/generated/seaborn.FacetGrid.html"
   ]
  },
  {
   "cell_type": "markdown",
   "metadata": {},
   "source": [
    "FacetGrid shows all the cases that Liverpool can form with full time result column and depicts it through graphs."
   ]
  },
  {
   "cell_type": "code",
   "execution_count": 25,
   "metadata": {},
   "outputs": [
    {
     "data": {
      "text/plain": [
       "<seaborn.axisgrid.FacetGrid at 0x7f92230aa588>"
      ]
     },
     "execution_count": 25,
     "metadata": {},
     "output_type": "execute_result"
    },
    {
     "data": {
      "image/png": "[encoded data removed]",
      "text/plain": [
       "<Figure size 656x216 with 3 Axes>"
      ]
     },
     "metadata": {
      "needs_background": "light"
     },
     "output_type": "display_data"
    }
   ],
   "source": [
    "df_Liverpool[['HomeTeam', 'FTR']].groupby(['HomeTeam']).mean()\n",
    "grid=sns.FacetGrid(df_Liverpool, col='FTR', row='HomeTeam')\n",
    "grid.map(plt.hist, 'FTR')\n",
    "grid.add_legend()"
   ]
  },
  {
   "cell_type": "markdown",
   "metadata": {},
   "source": [
    "https://seaborn.pydata.org/generated/seaborn.distplot.html"
   ]
  },
  {
   "cell_type": "markdown",
   "metadata": {},
   "source": [
    "The following bell curve gives us a confidence level of about 90%, hence we can decide our critical value and formulate z-test according to that."
   ]
  },
  {
   "cell_type": "code",
   "execution_count": 26,
   "metadata": {},
   "outputs": [
    {
     "data": {
      "image/png": "[encoded data removed]",
      "text/plain": [
       "<Figure size 432x288 with 1 Axes>"
      ]
     },
     "metadata": {
      "needs_background": "light"
     },
     "output_type": "display_data"
    }
   ],
   "source": [
    "ax=sns.distplot(df_Liverpool['FTR'], rug=True,fit=norm,kde=False, rug_kws={\"color\": \"g\"},\n",
    "                hist_kws={\"histtype\": \"step\", \"linewidth\": 1.5,\n",
    "                          \"alpha\": 1, \"color\": \"b\"})\n",
    "_=ax.set(xlabel='Results', ylabel='FTR')"
   ]
  },
  {
   "cell_type": "markdown",
   "metadata": {},
   "source": [
    "setting values of liverpool fulltimeresult ftr and applying ztest to prove our hypothesis."
   ]
  },
  {
   "cell_type": "markdown",
   "metadata": {},
   "source": [
    "only taking the values where liverpool won matches."
   ]
  },
  {
   "cell_type": "code",
   "execution_count": 27,
   "metadata": {},
   "outputs": [],
   "source": [
    "df_Liverpool_wins=(df_Liverpool['FTR']==1)"
   ]
  },
  {
   "cell_type": "code",
   "execution_count": 28,
   "metadata": {},
   "outputs": [],
   "source": [
    "df_Liverpool_losses=(df_Liverpool['FTR']==2)"
   ]
  },
  {
   "cell_type": "code",
   "execution_count": 29,
   "metadata": {},
   "outputs": [],
   "source": [
    "df_Liverpool_draw=df_Liverpool['FTR']==0"
   ]
  },
  {
   "cell_type": "markdown",
   "metadata": {},
   "source": [
    "https://towardsdatascience.com/hypothesis-testing-in-machine-learning-using-python-a0dc89e169ce"
   ]
  },
  {
   "cell_type": "markdown",
   "metadata": {},
   "source": [
    "Mean of the values where liverpool won the matches"
   ]
  },
  {
   "cell_type": "code",
   "execution_count": 30,
   "metadata": {},
   "outputs": [
    {
     "data": {
      "text/plain": [
       "0.605427974947808"
      ]
     },
     "execution_count": 30,
     "metadata": {},
     "output_type": "execute_result"
    }
   ],
   "source": [
    "df_mean=df_Liverpool_wins.mean()\n",
    "df_mean"
   ]
  },
  {
   "cell_type": "markdown",
   "metadata": {},
   "source": [
    "frac=0.20 specifies that we are taking 20% of the values."
   ]
  },
  {
   "cell_type": "code",
   "execution_count": 31,
   "metadata": {},
   "outputs": [],
   "source": [
    "df_Liverpool_wins_sample=df_Liverpool_wins.sample(frac=0.40)"
   ]
  },
  {
   "cell_type": "markdown",
   "metadata": {},
   "source": [
    "Mean of the 20% sampled values."
   ]
  },
  {
   "cell_type": "code",
   "execution_count": 32,
   "metadata": {},
   "outputs": [
    {
     "data": {
      "text/plain": [
       "0.609375"
      ]
     },
     "execution_count": 32,
     "metadata": {},
     "output_type": "execute_result"
    }
   ],
   "source": [
    "sample_mean=df_Liverpool_wins_sample.mean()\n",
    "sample_mean"
   ]
  },
  {
   "cell_type": "markdown",
   "metadata": {},
   "source": [
    "Standard deviation of the values where Liverpool won the matches."
   ]
  },
  {
   "cell_type": "code",
   "execution_count": 33,
   "metadata": {},
   "outputs": [
    {
     "data": {
      "text/plain": [
       "0.48926955902804464"
      ]
     },
     "execution_count": 33,
     "metadata": {},
     "output_type": "execute_result"
    }
   ],
   "source": [
    "df_std=statistics.stdev(df_Liverpool_wins)\n",
    "df_std"
   ]
  },
  {
   "cell_type": "markdown",
   "metadata": {},
   "source": [
    "Standard deviation of sampled values."
   ]
  },
  {
   "cell_type": "code",
   "execution_count": 34,
   "metadata": {},
   "outputs": [
    {
     "data": {
      "text/plain": [
       "0.4891660014385206"
      ]
     },
     "execution_count": 34,
     "metadata": {},
     "output_type": "execute_result"
    }
   ],
   "source": [
    "df_std_sample=statistics.stdev(df_Liverpool_wins_sample)\n",
    "df_std_sample"
   ]
  },
  {
   "cell_type": "markdown",
   "metadata": {},
   "source": [
    "Assuming critical value = 1.65 as confidence level is 90%"
   ]
  },
  {
   "cell_type": "code",
   "execution_count": 35,
   "metadata": {},
   "outputs": [
    {
     "name": "stdout",
     "output_type": "stream",
     "text": [
      "0.08068886718587885\n"
     ]
    }
   ],
   "source": [
    "critical_value=1.65\n",
    "zscore=((sample_mean-df_mean)*math.sqrt(100))/df_std_sample #taking N=100 (for 100 samples)\n",
    "print(zscore)"
   ]
  },
  {
   "cell_type": "markdown",
   "metadata": {},
   "source": [
    "Our null hypothesis is true as the zscore we got is less than our critical value, therefore liverpool wins more matches at their home ground."
   ]
  },
  {
   "cell_type": "markdown",
   "metadata": {},
   "source": [
    "# Hypothesis 2"
   ]
  },
  {
   "cell_type": "markdown",
   "metadata": {},
   "source": [
    "* if a team either home or away has more goals before half time then it will win the match."
   ]
  },
  {
   "cell_type": "markdown",
   "metadata": {},
   "source": [
    "Columns to consider: HTR,HTHG,HTAG and if HTHG>HTAG then home team wins else Away team wins."
   ]
  },
  {
   "cell_type": "code",
   "execution_count": 36,
   "metadata": {},
   "outputs": [
    {
     "data": {
      "text/html": [
       "<div>\n",
       "<style scoped>\n",
       "    .dataframe tbody tr th:only-of-type {\n",
       "        vertical-align: middle;\n",
       "    }\n",
       "\n",
       "    .dataframe tbody tr th {\n",
       "        vertical-align: top;\n",
       "    }\n",
       "\n",
       "    .dataframe thead th {\n",
       "        text-align: right;\n",
       "    }\n",
       "</style>\n",
       "<table border=\"1\" class=\"dataframe\">\n",
       "  <thead>\n",
       "    <tr style=\"text-align: right;\">\n",
       "      <th></th>\n",
       "      <th>HomeTeam</th>\n",
       "      <th>AwayTeam</th>\n",
       "      <th>HTHG</th>\n",
       "      <th>HTAG</th>\n",
       "      <th>FTR</th>\n",
       "      <th>HTR</th>\n",
       "    </tr>\n",
       "  </thead>\n",
       "  <tbody>\n",
       "    <tr>\n",
       "      <td>0</td>\n",
       "      <td>Liverpool</td>\n",
       "      <td>Sheffield Weds</td>\n",
       "      <td>0.0</td>\n",
       "      <td>0.0</td>\n",
       "      <td>1</td>\n",
       "      <td>D</td>\n",
       "    </tr>\n",
       "    <tr>\n",
       "      <td>1</td>\n",
       "      <td>QPR</td>\n",
       "      <td>Liverpool</td>\n",
       "      <td>0.0</td>\n",
       "      <td>0.0</td>\n",
       "      <td>2</td>\n",
       "      <td>D</td>\n",
       "    </tr>\n",
       "    <tr>\n",
       "      <td>2</td>\n",
       "      <td>Swindon</td>\n",
       "      <td>Liverpool</td>\n",
       "      <td>0.0</td>\n",
       "      <td>0.0</td>\n",
       "      <td>2</td>\n",
       "      <td>D</td>\n",
       "    </tr>\n",
       "    <tr>\n",
       "      <td>3</td>\n",
       "      <td>Liverpool</td>\n",
       "      <td>Tottenham</td>\n",
       "      <td>0.0</td>\n",
       "      <td>0.0</td>\n",
       "      <td>2</td>\n",
       "      <td>D</td>\n",
       "    </tr>\n",
       "    <tr>\n",
       "      <td>4</td>\n",
       "      <td>Liverpool</td>\n",
       "      <td>Leeds</td>\n",
       "      <td>0.0</td>\n",
       "      <td>0.0</td>\n",
       "      <td>1</td>\n",
       "      <td>D</td>\n",
       "    </tr>\n",
       "    <tr>\n",
       "      <td>...</td>\n",
       "      <td>...</td>\n",
       "      <td>...</td>\n",
       "      <td>...</td>\n",
       "      <td>...</td>\n",
       "      <td>...</td>\n",
       "      <td>...</td>\n",
       "    </tr>\n",
       "    <tr>\n",
       "      <td>953</td>\n",
       "      <td>Liverpool</td>\n",
       "      <td>Bournemouth</td>\n",
       "      <td>1.0</td>\n",
       "      <td>0.0</td>\n",
       "      <td>1</td>\n",
       "      <td>H</td>\n",
       "    </tr>\n",
       "    <tr>\n",
       "      <td>954</td>\n",
       "      <td>West Brom</td>\n",
       "      <td>Liverpool</td>\n",
       "      <td>0.0</td>\n",
       "      <td>1.0</td>\n",
       "      <td>0</td>\n",
       "      <td>A</td>\n",
       "    </tr>\n",
       "    <tr>\n",
       "      <td>955</td>\n",
       "      <td>Liverpool</td>\n",
       "      <td>Stoke</td>\n",
       "      <td>0.0</td>\n",
       "      <td>0.0</td>\n",
       "      <td>0</td>\n",
       "      <td>D</td>\n",
       "    </tr>\n",
       "    <tr>\n",
       "      <td>956</td>\n",
       "      <td>Chelsea</td>\n",
       "      <td>Liverpool</td>\n",
       "      <td>1.0</td>\n",
       "      <td>0.0</td>\n",
       "      <td>1</td>\n",
       "      <td>H</td>\n",
       "    </tr>\n",
       "    <tr>\n",
       "      <td>957</td>\n",
       "      <td>Liverpool</td>\n",
       "      <td>Brighton</td>\n",
       "      <td>2.0</td>\n",
       "      <td>0.0</td>\n",
       "      <td>1</td>\n",
       "      <td>H</td>\n",
       "    </tr>\n",
       "  </tbody>\n",
       "</table>\n",
       "<p>958 rows × 6 columns</p>\n",
       "</div>"
      ],
      "text/plain": [
       "      HomeTeam        AwayTeam  HTHG  HTAG  FTR HTR\n",
       "0    Liverpool  Sheffield Weds   0.0   0.0    1   D\n",
       "1          QPR       Liverpool   0.0   0.0    2   D\n",
       "2      Swindon       Liverpool   0.0   0.0    2   D\n",
       "3    Liverpool       Tottenham   0.0   0.0    2   D\n",
       "4    Liverpool           Leeds   0.0   0.0    1   D\n",
       "..         ...             ...   ...   ...  ...  ..\n",
       "953  Liverpool     Bournemouth   1.0   0.0    1   H\n",
       "954  West Brom       Liverpool   0.0   1.0    0   A\n",
       "955  Liverpool           Stoke   0.0   0.0    0   D\n",
       "956    Chelsea       Liverpool   1.0   0.0    1   H\n",
       "957  Liverpool        Brighton   2.0   0.0    1   H\n",
       "\n",
       "[958 rows x 6 columns]"
      ]
     },
     "execution_count": 36,
     "metadata": {},
     "output_type": "execute_result"
    }
   ],
   "source": [
    "df_Half_Time=pd.DataFrame(df, columns=('HomeTeam', 'AwayTeam', 'HTHG', 'HTAG', 'FTR', 'HTR'))\n",
    "df_Half_Time"
   ]
  },
  {
   "cell_type": "markdown",
   "metadata": {},
   "source": [
    "Mapping HTR values into integers."
   ]
  },
  {
   "cell_type": "code",
   "execution_count": 37,
   "metadata": {},
   "outputs": [
    {
     "data": {
      "text/html": [
       "<div>\n",
       "<style scoped>\n",
       "    .dataframe tbody tr th:only-of-type {\n",
       "        vertical-align: middle;\n",
       "    }\n",
       "\n",
       "    .dataframe tbody tr th {\n",
       "        vertical-align: top;\n",
       "    }\n",
       "\n",
       "    .dataframe thead th {\n",
       "        text-align: right;\n",
       "    }\n",
       "</style>\n",
       "<table border=\"1\" class=\"dataframe\">\n",
       "  <thead>\n",
       "    <tr style=\"text-align: right;\">\n",
       "      <th></th>\n",
       "      <th>HomeTeam</th>\n",
       "      <th>AwayTeam</th>\n",
       "      <th>HTHG</th>\n",
       "      <th>HTAG</th>\n",
       "      <th>FTR</th>\n",
       "      <th>HTR</th>\n",
       "    </tr>\n",
       "  </thead>\n",
       "  <tbody>\n",
       "    <tr>\n",
       "      <td>948</td>\n",
       "      <td>Liverpool</td>\n",
       "      <td>Newcastle</td>\n",
       "      <td>1.0</td>\n",
       "      <td>0.0</td>\n",
       "      <td>1</td>\n",
       "      <td>1</td>\n",
       "    </tr>\n",
       "    <tr>\n",
       "      <td>949</td>\n",
       "      <td>Man United</td>\n",
       "      <td>Liverpool</td>\n",
       "      <td>2.0</td>\n",
       "      <td>0.0</td>\n",
       "      <td>1</td>\n",
       "      <td>1</td>\n",
       "    </tr>\n",
       "    <tr>\n",
       "      <td>950</td>\n",
       "      <td>Liverpool</td>\n",
       "      <td>Watford</td>\n",
       "      <td>2.0</td>\n",
       "      <td>0.0</td>\n",
       "      <td>1</td>\n",
       "      <td>1</td>\n",
       "    </tr>\n",
       "    <tr>\n",
       "      <td>951</td>\n",
       "      <td>Crystal Palace</td>\n",
       "      <td>Liverpool</td>\n",
       "      <td>1.0</td>\n",
       "      <td>0.0</td>\n",
       "      <td>2</td>\n",
       "      <td>1</td>\n",
       "    </tr>\n",
       "    <tr>\n",
       "      <td>952</td>\n",
       "      <td>Everton</td>\n",
       "      <td>Liverpool</td>\n",
       "      <td>0.0</td>\n",
       "      <td>0.0</td>\n",
       "      <td>0</td>\n",
       "      <td>0</td>\n",
       "    </tr>\n",
       "    <tr>\n",
       "      <td>953</td>\n",
       "      <td>Liverpool</td>\n",
       "      <td>Bournemouth</td>\n",
       "      <td>1.0</td>\n",
       "      <td>0.0</td>\n",
       "      <td>1</td>\n",
       "      <td>1</td>\n",
       "    </tr>\n",
       "    <tr>\n",
       "      <td>954</td>\n",
       "      <td>West Brom</td>\n",
       "      <td>Liverpool</td>\n",
       "      <td>0.0</td>\n",
       "      <td>1.0</td>\n",
       "      <td>0</td>\n",
       "      <td>2</td>\n",
       "    </tr>\n",
       "    <tr>\n",
       "      <td>955</td>\n",
       "      <td>Liverpool</td>\n",
       "      <td>Stoke</td>\n",
       "      <td>0.0</td>\n",
       "      <td>0.0</td>\n",
       "      <td>0</td>\n",
       "      <td>0</td>\n",
       "    </tr>\n",
       "    <tr>\n",
       "      <td>956</td>\n",
       "      <td>Chelsea</td>\n",
       "      <td>Liverpool</td>\n",
       "      <td>1.0</td>\n",
       "      <td>0.0</td>\n",
       "      <td>1</td>\n",
       "      <td>1</td>\n",
       "    </tr>\n",
       "    <tr>\n",
       "      <td>957</td>\n",
       "      <td>Liverpool</td>\n",
       "      <td>Brighton</td>\n",
       "      <td>2.0</td>\n",
       "      <td>0.0</td>\n",
       "      <td>1</td>\n",
       "      <td>1</td>\n",
       "    </tr>\n",
       "  </tbody>\n",
       "</table>\n",
       "</div>"
      ],
      "text/plain": [
       "           HomeTeam     AwayTeam  HTHG  HTAG  FTR  HTR\n",
       "948       Liverpool    Newcastle   1.0   0.0    1    1\n",
       "949      Man United    Liverpool   2.0   0.0    1    1\n",
       "950       Liverpool      Watford   2.0   0.0    1    1\n",
       "951  Crystal Palace    Liverpool   1.0   0.0    2    1\n",
       "952         Everton    Liverpool   0.0   0.0    0    0\n",
       "953       Liverpool  Bournemouth   1.0   0.0    1    1\n",
       "954       West Brom    Liverpool   0.0   1.0    0    2\n",
       "955       Liverpool        Stoke   0.0   0.0    0    0\n",
       "956         Chelsea    Liverpool   1.0   0.0    1    1\n",
       "957       Liverpool     Brighton   2.0   0.0    1    1"
      ]
     },
     "execution_count": 37,
     "metadata": {},
     "output_type": "execute_result"
    }
   ],
   "source": [
    "df_Half_Time['HTR']=[mapping[i] for i in df['HTR']]\n",
    "df_Half_Time.tail(10)"
   ]
  },
  {
   "cell_type": "markdown",
   "metadata": {},
   "source": [
    "The Facetgrid shows comparison of half time home team goals(HTHG) with half time result(HTR), it displays each possible outcome, for instance the first 3 graphs show that when HTHG is 0 there are 3 possible combinations and code has displayed all graphically. Therefore, HTHG =0 and HTR=0 has almost 350 values and shows a strong relation that if there are none goals scored in the first half then FTR or final time result will result in draw. Whereas, if more than one goal is scored by home team before half time then final result will go in favour of home team"
   ]
  },
  {
   "cell_type": "code",
   "execution_count": 38,
   "metadata": {},
   "outputs": [
    {
     "data": {
      "text/plain": [
       "<seaborn.axisgrid.FacetGrid at 0x7f92207c7828>"
      ]
     },
     "execution_count": 38,
     "metadata": {},
     "output_type": "execute_result"
    },
    {
     "data": {
      "image/png": "[encoded data removed]",
      "text/plain": [
       "<Figure size 656x1296 with 18 Axes>"
      ]
     },
     "metadata": {
      "needs_background": "light"
     },
     "output_type": "display_data"
    }
   ],
   "source": [
    "df_Half_Time[['HTHG', 'FTR']].groupby(['HTHG']).mean()\n",
    "grid=sns.FacetGrid(df_Half_Time, col='FTR', row='HTHG')\n",
    "grid.map(plt.hist, 'FTR')\n",
    "grid.add_legend()"
   ]
  },
  {
   "cell_type": "markdown",
   "metadata": {},
   "source": [
    "Similarly, the Facetgrid shows comparison of half time away team goals(HTHG) with half time result(HTR), it displays each possible outcome, for instance the first 3 graphs show that when HTAG is 0 there are 3 possible combinations and code has displayed all graphically. Therefore, HTHG =0 and HTR=1 has almost 400 values and shows a strong relation that if there is one goal scored in the first half then FTR or final time result will result in win for the home team as away team did not score any goal. Whereas, if more than one goal is scored by away team before half time then there is a chance that result will go in the favour of away team but chances are less as almost 100 values goes in favour of home team leaving only 120 for away team."
   ]
  },
  {
   "cell_type": "code",
   "execution_count": 39,
   "metadata": {},
   "outputs": [
    {
     "data": {
      "text/plain": [
       "<seaborn.axisgrid.FacetGrid at 0x7f921ff33e48>"
      ]
     },
     "execution_count": 39,
     "metadata": {},
     "output_type": "execute_result"
    },
    {
     "data": {
      "image/png": "[encoded data removed]",
      "text/plain": [
       "<Figure size 656x1080 with 15 Axes>"
      ]
     },
     "metadata": {
      "needs_background": "light"
     },
     "output_type": "display_data"
    }
   ],
   "source": [
    "df_Half_Time[['HTAG', 'FTR']].groupby(['HTAG']).mean()\n",
    "grid=sns.FacetGrid(df_Half_Time, col='FTR', row='HTAG')\n",
    "grid.map(plt.hist, 'FTR')\n",
    "grid.add_legend()"
   ]
  },
  {
   "cell_type": "markdown",
   "metadata": {},
   "source": [
    "To just compare the win or lose I have taken HTR= 1 and 2 where 1 is where home team wins and 2 is where away team wins."
   ]
  },
  {
   "cell_type": "code",
   "execution_count": 40,
   "metadata": {},
   "outputs": [],
   "source": [
    "df_win_or_lose=df_Half_Time[(df_Half_Time['HTR']==1)| (df_Half_Time['HTR']==2)]"
   ]
  },
  {
   "cell_type": "code",
   "execution_count": 41,
   "metadata": {},
   "outputs": [
    {
     "data": {
      "text/html": [
       "<div>\n",
       "<style scoped>\n",
       "    .dataframe tbody tr th:only-of-type {\n",
       "        vertical-align: middle;\n",
       "    }\n",
       "\n",
       "    .dataframe tbody tr th {\n",
       "        vertical-align: top;\n",
       "    }\n",
       "\n",
       "    .dataframe thead th {\n",
       "        text-align: right;\n",
       "    }\n",
       "</style>\n",
       "<table border=\"1\" class=\"dataframe\">\n",
       "  <thead>\n",
       "    <tr style=\"text-align: right;\">\n",
       "      <th></th>\n",
       "      <th>HomeTeam</th>\n",
       "      <th>AwayTeam</th>\n",
       "      <th>HTHG</th>\n",
       "      <th>HTAG</th>\n",
       "      <th>FTR</th>\n",
       "      <th>HTR</th>\n",
       "    </tr>\n",
       "  </thead>\n",
       "  <tbody>\n",
       "    <tr>\n",
       "      <td>86</td>\n",
       "      <td>Tottenham</td>\n",
       "      <td>Liverpool</td>\n",
       "      <td>0.0</td>\n",
       "      <td>2.0</td>\n",
       "      <td>2</td>\n",
       "      <td>2</td>\n",
       "    </tr>\n",
       "    <tr>\n",
       "      <td>87</td>\n",
       "      <td>Liverpool</td>\n",
       "      <td>QPR</td>\n",
       "      <td>1.0</td>\n",
       "      <td>0.0</td>\n",
       "      <td>1</td>\n",
       "      <td>1</td>\n",
       "    </tr>\n",
       "    <tr>\n",
       "      <td>88</td>\n",
       "      <td>Wimbledon</td>\n",
       "      <td>Liverpool</td>\n",
       "      <td>1.0</td>\n",
       "      <td>0.0</td>\n",
       "      <td>1</td>\n",
       "      <td>1</td>\n",
       "    </tr>\n",
       "    <tr>\n",
       "      <td>89</td>\n",
       "      <td>Liverpool</td>\n",
       "      <td>Blackburn</td>\n",
       "      <td>3.0</td>\n",
       "      <td>0.0</td>\n",
       "      <td>1</td>\n",
       "      <td>1</td>\n",
       "    </tr>\n",
       "    <tr>\n",
       "      <td>90</td>\n",
       "      <td>Liverpool</td>\n",
       "      <td>Bolton</td>\n",
       "      <td>2.0</td>\n",
       "      <td>0.0</td>\n",
       "      <td>1</td>\n",
       "      <td>1</td>\n",
       "    </tr>\n",
       "    <tr>\n",
       "      <td>...</td>\n",
       "      <td>...</td>\n",
       "      <td>...</td>\n",
       "      <td>...</td>\n",
       "      <td>...</td>\n",
       "      <td>...</td>\n",
       "      <td>...</td>\n",
       "    </tr>\n",
       "    <tr>\n",
       "      <td>951</td>\n",
       "      <td>Crystal Palace</td>\n",
       "      <td>Liverpool</td>\n",
       "      <td>1.0</td>\n",
       "      <td>0.0</td>\n",
       "      <td>2</td>\n",
       "      <td>1</td>\n",
       "    </tr>\n",
       "    <tr>\n",
       "      <td>953</td>\n",
       "      <td>Liverpool</td>\n",
       "      <td>Bournemouth</td>\n",
       "      <td>1.0</td>\n",
       "      <td>0.0</td>\n",
       "      <td>1</td>\n",
       "      <td>1</td>\n",
       "    </tr>\n",
       "    <tr>\n",
       "      <td>954</td>\n",
       "      <td>West Brom</td>\n",
       "      <td>Liverpool</td>\n",
       "      <td>0.0</td>\n",
       "      <td>1.0</td>\n",
       "      <td>0</td>\n",
       "      <td>2</td>\n",
       "    </tr>\n",
       "    <tr>\n",
       "      <td>956</td>\n",
       "      <td>Chelsea</td>\n",
       "      <td>Liverpool</td>\n",
       "      <td>1.0</td>\n",
       "      <td>0.0</td>\n",
       "      <td>1</td>\n",
       "      <td>1</td>\n",
       "    </tr>\n",
       "    <tr>\n",
       "      <td>957</td>\n",
       "      <td>Liverpool</td>\n",
       "      <td>Brighton</td>\n",
       "      <td>2.0</td>\n",
       "      <td>0.0</td>\n",
       "      <td>1</td>\n",
       "      <td>1</td>\n",
       "    </tr>\n",
       "  </tbody>\n",
       "</table>\n",
       "<p>516 rows × 6 columns</p>\n",
       "</div>"
      ],
      "text/plain": [
       "           HomeTeam     AwayTeam  HTHG  HTAG  FTR  HTR\n",
       "86        Tottenham    Liverpool   0.0   2.0    2    2\n",
       "87        Liverpool          QPR   1.0   0.0    1    1\n",
       "88        Wimbledon    Liverpool   1.0   0.0    1    1\n",
       "89        Liverpool    Blackburn   3.0   0.0    1    1\n",
       "90        Liverpool       Bolton   2.0   0.0    1    1\n",
       "..              ...          ...   ...   ...  ...  ...\n",
       "951  Crystal Palace    Liverpool   1.0   0.0    2    1\n",
       "953       Liverpool  Bournemouth   1.0   0.0    1    1\n",
       "954       West Brom    Liverpool   0.0   1.0    0    2\n",
       "956         Chelsea    Liverpool   1.0   0.0    1    1\n",
       "957       Liverpool     Brighton   2.0   0.0    1    1\n",
       "\n",
       "[516 rows x 6 columns]"
      ]
     },
     "execution_count": 41,
     "metadata": {},
     "output_type": "execute_result"
    }
   ],
   "source": [
    "df_win_or_lose"
   ]
  },
  {
   "cell_type": "markdown",
   "metadata": {},
   "source": [
    "# Violin plot compares two values, here it will be comparing win and loss of two columns that are HTHG and HTAG."
   ]
  },
  {
   "cell_type": "markdown",
   "metadata": {},
   "source": [
    "x axis shows HTHG and y axis depicts HTAG, results are interpreted like: if value on x axis is 0 and on y it is 1 then plot shifts towards right and is colored red that is color of loss, that brings us to our hypothesis, therefore if team on x axis has lower goals then it will loose and vis-a-verse."
   ]
  },
  {
   "cell_type": "code",
   "execution_count": 42,
   "metadata": {},
   "outputs": [
    {
     "data": {
      "image/png": "[encoded data removed]",
      "text/plain": [
       "<Figure size 432x288 with 1 Axes>"
      ]
     },
     "metadata": {
      "needs_background": "light"
     },
     "output_type": "display_data"
    }
   ],
   "source": [
    "sns.violinplot(\"HTHG\",\"HTAG\", hue='HTR',data=df_win_or_lose,split=True)\n",
    "sns.set(rc={'figure.figsize':(21,9)})"
   ]
  },
  {
   "cell_type": "markdown",
   "metadata": {},
   "source": [
    "# Hence Hypothesis 2 is true."
   ]
  },
  {
   "cell_type": "code",
   "execution_count": 45,
   "metadata": {},
   "outputs": [
    {
     "ename": "FileNotFoundError",
     "evalue": "[Errno 2] No such file or directory: 'liverpool-fc-stats-from-19932018.zip'",
     "output_type": "error",
     "traceback": [
      "\u001b[0;31m---------------------------------------------------------------------------\u001b[0m",
      "\u001b[0;31mFileNotFoundError\u001b[0m                         Traceback (most recent call last)",
      "\u001b[0;32m<ipython-input-45-04f17f45aee3>\u001b[0m in \u001b[0;36m<module>\u001b[0;34m\u001b[0m\n\u001b[0;32m----> 1\u001b[0;31m \u001b[0mdf1\u001b[0m\u001b[0;34m=\u001b[0m\u001b[0mpd\u001b[0m\u001b[0;34m.\u001b[0m\u001b[0mread_csv\u001b[0m\u001b[0;34m(\u001b[0m\u001b[0;34m'liverpool-fc-stats-from-19932018.zip'\u001b[0m\u001b[0;34m)\u001b[0m\u001b[0;34m\u001b[0m\u001b[0;34m\u001b[0m\u001b[0m\n\u001b[0m",
      "\u001b[0;32m~/.local/lib/python3.6/site-packages/pandas/io/parsers.py\u001b[0m in \u001b[0;36mparser_f\u001b[0;34m(filepath_or_buffer, sep, delimiter, header, names, index_col, usecols, squeeze, prefix, mangle_dupe_cols, dtype, engine, converters, true_values, false_values, skipinitialspace, skiprows, skipfooter, nrows, na_values, keep_default_na, na_filter, verbose, skip_blank_lines, parse_dates, infer_datetime_format, keep_date_col, date_parser, dayfirst, cache_dates, iterator, chunksize, compression, thousands, decimal, lineterminator, quotechar, quoting, doublequote, escapechar, comment, encoding, dialect, error_bad_lines, warn_bad_lines, delim_whitespace, low_memory, memory_map, float_precision)\u001b[0m\n\u001b[1;32m    683\u001b[0m         )\n\u001b[1;32m    684\u001b[0m \u001b[0;34m\u001b[0m\u001b[0m\n\u001b[0;32m--> 685\u001b[0;31m         \u001b[0;32mreturn\u001b[0m \u001b[0m_read\u001b[0m\u001b[0;34m(\u001b[0m\u001b[0mfilepath_or_buffer\u001b[0m\u001b[0;34m,\u001b[0m \u001b[0mkwds\u001b[0m\u001b[0;34m)\u001b[0m\u001b[0;34m\u001b[0m\u001b[0;34m\u001b[0m\u001b[0m\n\u001b[0m\u001b[1;32m    686\u001b[0m \u001b[0;34m\u001b[0m\u001b[0m\n\u001b[1;32m    687\u001b[0m     \u001b[0mparser_f\u001b[0m\u001b[0;34m.\u001b[0m\u001b[0m__name__\u001b[0m \u001b[0;34m=\u001b[0m \u001b[0mname\u001b[0m\u001b[0;34m\u001b[0m\u001b[0;34m\u001b[0m\u001b[0m\n",
      "\u001b[0;32m~/.local/lib/python3.6/site-packages/pandas/io/parsers.py\u001b[0m in \u001b[0;36m_read\u001b[0;34m(filepath_or_buffer, kwds)\u001b[0m\n\u001b[1;32m    455\u001b[0m \u001b[0;34m\u001b[0m\u001b[0m\n\u001b[1;32m    456\u001b[0m     \u001b[0;31m# Create the parser.\u001b[0m\u001b[0;34m\u001b[0m\u001b[0;34m\u001b[0m\u001b[0;34m\u001b[0m\u001b[0m\n\u001b[0;32m--> 457\u001b[0;31m     \u001b[0mparser\u001b[0m \u001b[0;34m=\u001b[0m \u001b[0mTextFileReader\u001b[0m\u001b[0;34m(\u001b[0m\u001b[0mfp_or_buf\u001b[0m\u001b[0;34m,\u001b[0m \u001b[0;34m**\u001b[0m\u001b[0mkwds\u001b[0m\u001b[0;34m)\u001b[0m\u001b[0;34m\u001b[0m\u001b[0;34m\u001b[0m\u001b[0m\n\u001b[0m\u001b[1;32m    458\u001b[0m \u001b[0;34m\u001b[0m\u001b[0m\n\u001b[1;32m    459\u001b[0m     \u001b[0;32mif\u001b[0m \u001b[0mchunksize\u001b[0m \u001b[0;32mor\u001b[0m \u001b[0miterator\u001b[0m\u001b[0;34m:\u001b[0m\u001b[0;34m\u001b[0m\u001b[0;34m\u001b[0m\u001b[0m\n",
      "\u001b[0;32m~/.local/lib/python3.6/site-packages/pandas/io/parsers.py\u001b[0m in \u001b[0;36m__init__\u001b[0;34m(self, f, engine, **kwds)\u001b[0m\n\u001b[1;32m    893\u001b[0m             \u001b[0mself\u001b[0m\u001b[0;34m.\u001b[0m\u001b[0moptions\u001b[0m\u001b[0;34m[\u001b[0m\u001b[0;34m\"has_index_names\"\u001b[0m\u001b[0;34m]\u001b[0m \u001b[0;34m=\u001b[0m \u001b[0mkwds\u001b[0m\u001b[0;34m[\u001b[0m\u001b[0;34m\"has_index_names\"\u001b[0m\u001b[0;34m]\u001b[0m\u001b[0;34m\u001b[0m\u001b[0;34m\u001b[0m\u001b[0m\n\u001b[1;32m    894\u001b[0m \u001b[0;34m\u001b[0m\u001b[0m\n\u001b[0;32m--> 895\u001b[0;31m         \u001b[0mself\u001b[0m\u001b[0;34m.\u001b[0m\u001b[0m_make_engine\u001b[0m\u001b[0;34m(\u001b[0m\u001b[0mself\u001b[0m\u001b[0;34m.\u001b[0m\u001b[0mengine\u001b[0m\u001b[0;34m)\u001b[0m\u001b[0;34m\u001b[0m\u001b[0;34m\u001b[0m\u001b[0m\n\u001b[0m\u001b[1;32m    896\u001b[0m \u001b[0;34m\u001b[0m\u001b[0m\n\u001b[1;32m    897\u001b[0m     \u001b[0;32mdef\u001b[0m \u001b[0mclose\u001b[0m\u001b[0;34m(\u001b[0m\u001b[0mself\u001b[0m\u001b[0;34m)\u001b[0m\u001b[0;34m:\u001b[0m\u001b[0;34m\u001b[0m\u001b[0;34m\u001b[0m\u001b[0m\n",
      "\u001b[0;32m~/.local/lib/python3.6/site-packages/pandas/io/parsers.py\u001b[0m in \u001b[0;36m_make_engine\u001b[0;34m(self, engine)\u001b[0m\n\u001b[1;32m   1133\u001b[0m     \u001b[0;32mdef\u001b[0m \u001b[0m_make_engine\u001b[0m\u001b[0;34m(\u001b[0m\u001b[0mself\u001b[0m\u001b[0;34m,\u001b[0m \u001b[0mengine\u001b[0m\u001b[0;34m=\u001b[0m\u001b[0;34m\"c\"\u001b[0m\u001b[0;34m)\u001b[0m\u001b[0;34m:\u001b[0m\u001b[0;34m\u001b[0m\u001b[0;34m\u001b[0m\u001b[0m\n\u001b[1;32m   1134\u001b[0m         \u001b[0;32mif\u001b[0m \u001b[0mengine\u001b[0m \u001b[0;34m==\u001b[0m \u001b[0;34m\"c\"\u001b[0m\u001b[0;34m:\u001b[0m\u001b[0;34m\u001b[0m\u001b[0;34m\u001b[0m\u001b[0m\n\u001b[0;32m-> 1135\u001b[0;31m             \u001b[0mself\u001b[0m\u001b[0;34m.\u001b[0m\u001b[0m_engine\u001b[0m \u001b[0;34m=\u001b[0m \u001b[0mCParserWrapper\u001b[0m\u001b[0;34m(\u001b[0m\u001b[0mself\u001b[0m\u001b[0;34m.\u001b[0m\u001b[0mf\u001b[0m\u001b[0;34m,\u001b[0m \u001b[0;34m**\u001b[0m\u001b[0mself\u001b[0m\u001b[0;34m.\u001b[0m\u001b[0moptions\u001b[0m\u001b[0;34m)\u001b[0m\u001b[0;34m\u001b[0m\u001b[0;34m\u001b[0m\u001b[0m\n\u001b[0m\u001b[1;32m   1136\u001b[0m         \u001b[0;32melse\u001b[0m\u001b[0;34m:\u001b[0m\u001b[0;34m\u001b[0m\u001b[0;34m\u001b[0m\u001b[0m\n\u001b[1;32m   1137\u001b[0m             \u001b[0;32mif\u001b[0m \u001b[0mengine\u001b[0m \u001b[0;34m==\u001b[0m \u001b[0;34m\"python\"\u001b[0m\u001b[0;34m:\u001b[0m\u001b[0;34m\u001b[0m\u001b[0;34m\u001b[0m\u001b[0m\n",
      "\u001b[0;32m~/.local/lib/python3.6/site-packages/pandas/io/parsers.py\u001b[0m in \u001b[0;36m__init__\u001b[0;34m(self, src, **kwds)\u001b[0m\n\u001b[1;32m   1915\u001b[0m         \u001b[0mkwds\u001b[0m\u001b[0;34m[\u001b[0m\u001b[0;34m\"usecols\"\u001b[0m\u001b[0;34m]\u001b[0m \u001b[0;34m=\u001b[0m \u001b[0mself\u001b[0m\u001b[0;34m.\u001b[0m\u001b[0musecols\u001b[0m\u001b[0;34m\u001b[0m\u001b[0;34m\u001b[0m\u001b[0m\n\u001b[1;32m   1916\u001b[0m \u001b[0;34m\u001b[0m\u001b[0m\n\u001b[0;32m-> 1917\u001b[0;31m         \u001b[0mself\u001b[0m\u001b[0;34m.\u001b[0m\u001b[0m_reader\u001b[0m \u001b[0;34m=\u001b[0m \u001b[0mparsers\u001b[0m\u001b[0;34m.\u001b[0m\u001b[0mTextReader\u001b[0m\u001b[0;34m(\u001b[0m\u001b[0msrc\u001b[0m\u001b[0;34m,\u001b[0m \u001b[0;34m**\u001b[0m\u001b[0mkwds\u001b[0m\u001b[0;34m)\u001b[0m\u001b[0;34m\u001b[0m\u001b[0;34m\u001b[0m\u001b[0m\n\u001b[0m\u001b[1;32m   1918\u001b[0m         \u001b[0mself\u001b[0m\u001b[0;34m.\u001b[0m\u001b[0munnamed_cols\u001b[0m \u001b[0;34m=\u001b[0m \u001b[0mself\u001b[0m\u001b[0;34m.\u001b[0m\u001b[0m_reader\u001b[0m\u001b[0;34m.\u001b[0m\u001b[0munnamed_cols\u001b[0m\u001b[0;34m\u001b[0m\u001b[0;34m\u001b[0m\u001b[0m\n\u001b[1;32m   1919\u001b[0m \u001b[0;34m\u001b[0m\u001b[0m\n",
      "\u001b[0;32mpandas/_libs/parsers.pyx\u001b[0m in \u001b[0;36mpandas._libs.parsers.TextReader.__cinit__\u001b[0;34m()\u001b[0m\n",
      "\u001b[0;32mpandas/_libs/parsers.pyx\u001b[0m in \u001b[0;36mpandas._libs.parsers.TextReader._setup_parser_source\u001b[0;34m()\u001b[0m\n",
      "\u001b[0;32m/usr/lib/python3.6/zipfile.py\u001b[0m in \u001b[0;36m__init__\u001b[0;34m(self, file, mode, compression, allowZip64)\u001b[0m\n\u001b[1;32m   1111\u001b[0m             \u001b[0;32mwhile\u001b[0m \u001b[0;32mTrue\u001b[0m\u001b[0;34m:\u001b[0m\u001b[0;34m\u001b[0m\u001b[0;34m\u001b[0m\u001b[0m\n\u001b[1;32m   1112\u001b[0m                 \u001b[0;32mtry\u001b[0m\u001b[0;34m:\u001b[0m\u001b[0;34m\u001b[0m\u001b[0;34m\u001b[0m\u001b[0m\n\u001b[0;32m-> 1113\u001b[0;31m                     \u001b[0mself\u001b[0m\u001b[0;34m.\u001b[0m\u001b[0mfp\u001b[0m \u001b[0;34m=\u001b[0m \u001b[0mio\u001b[0m\u001b[0;34m.\u001b[0m\u001b[0mopen\u001b[0m\u001b[0;34m(\u001b[0m\u001b[0mfile\u001b[0m\u001b[0;34m,\u001b[0m \u001b[0mfilemode\u001b[0m\u001b[0;34m)\u001b[0m\u001b[0;34m\u001b[0m\u001b[0;34m\u001b[0m\u001b[0m\n\u001b[0m\u001b[1;32m   1114\u001b[0m                 \u001b[0;32mexcept\u001b[0m \u001b[0mOSError\u001b[0m\u001b[0;34m:\u001b[0m\u001b[0;34m\u001b[0m\u001b[0;34m\u001b[0m\u001b[0m\n\u001b[1;32m   1115\u001b[0m                     \u001b[0;32mif\u001b[0m \u001b[0mfilemode\u001b[0m \u001b[0;32min\u001b[0m \u001b[0mmodeDict\u001b[0m\u001b[0;34m:\u001b[0m\u001b[0;34m\u001b[0m\u001b[0;34m\u001b[0m\u001b[0m\n",
      "\u001b[0;31mFileNotFoundError\u001b[0m: [Errno 2] No such file or directory: 'liverpool-fc-stats-from-19932018.zip'"
     ]
    }
   ],
   "source": [
    "df1=pd.read_csv('liverpool-fc-stats-from-19932018.zip')"
   ]
  },
  {
   "cell_type": "code",
   "execution_count": null,
   "metadata": {},
   "outputs": [],
   "source": []
  }
 ],
 "metadata": {
  "kernelspec": {
   "display_name": "Python 3",
   "language": "python",
   "name": "python3"
  },
  "language_info": {
   "codemirror_mode": {
    "name": "ipython",
    "version": 3
   },
   "file_extension": ".py",
   "mimetype": "text/x-python",
   "name": "python",
   "nbconvert_exporter": "python",
   "pygments_lexer": "ipython3",
   "version": "3.6.8"
  }
 },
 "nbformat": 4,
 "nbformat_minor": 2
}
